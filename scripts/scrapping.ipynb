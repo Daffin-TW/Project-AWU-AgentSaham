{
 "cells": [
  {
   "cell_type": "code",
   "execution_count": 1,
   "metadata": {},
   "outputs": [],
   "source": [
    "from selenium.webdriver.common.by import By\n",
    "from selenium import webdriver\n",
    "from time import sleep"
   ]
  },
  {
   "cell_type": "code",
   "execution_count": 9,
   "metadata": {},
   "outputs": [
    {
     "name": "stdout",
     "output_type": "stream",
     "text": [
      "Memilih tahun 2022 dan periode audit\n"
     ]
    }
   ],
   "source": [
    "# Define Chrome webdriver\n",
    "driver = webdriver.Chrome()\n",
    "\n",
    "# Forward the webdriver to the specified link\n",
    "url = 'https://www.idx.co.id/id/perusahaan-tercatat/laporan-keuangan-dan-tahunan/'\n",
    "driver.get(url)\n",
    "\n",
    "# Settings\n",
    "driver.implicitly_wait(3)  # 3 second timeout on waiting an element to be found\n",
    "\n",
    "# Finding year elements\n",
    "year_button = driver.find_elements(By.NAME, 'year')\n",
    "year_text = [int(i.get_attribute('value')) for i in year_button]\n",
    "\n",
    "year_dict = dict(zip(year_text, year_button))\n",
    "\n",
    "# Finding report's quarterly period elements\n",
    "period_button = driver.find_elements(By.NAME, 'period')\n",
    "period_text = [str(i.get_attribute('value')) for i in period_button]\n",
    "\n",
    "period_dict = dict(zip(period_text, period_button))\n",
    "\n",
    "# Input from user\n",
    "year = int(input(f'Masukkan Tahun {tuple(year_text)}: '))\n",
    "period = str(input(f'Masukkan Periode {tuple(period_text)}: '))\n",
    "\n",
    "print(f'Memilih tahun {year} dan periode {period}')\n",
    "year_dict[year].click()\n",
    "period_dict[period].click()\n",
    "\n",
    "search_button = driver.find_element(By.CSS_SELECTOR, '.btn--wider.btn--primary')\n",
    "search_button.click()\n",
    "\n",
    "sleep(30)\n",
    "\n",
    "driver.quit()"
   ]
  },
  {
   "cell_type": "code",
   "execution_count": null,
   "metadata": {},
   "outputs": [],
   "source": []
  }
 ],
 "metadata": {
  "kernelspec": {
   "display_name": ".venv",
   "language": "python",
   "name": "python3"
  },
  "language_info": {
   "codemirror_mode": {
    "name": "ipython",
    "version": 3
   },
   "file_extension": ".py",
   "mimetype": "text/x-python",
   "name": "python",
   "nbconvert_exporter": "python",
   "pygments_lexer": "ipython3",
   "version": "3.11.9"
  }
 },
 "nbformat": 4,
 "nbformat_minor": 2
}
