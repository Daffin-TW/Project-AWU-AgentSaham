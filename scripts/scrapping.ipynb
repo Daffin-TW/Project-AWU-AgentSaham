{
 "cells": [
  {
   "cell_type": "markdown",
   "metadata": {},
   "source": [
    "# Testing"
   ]
  },
  {
   "cell_type": "code",
   "execution_count": 1,
   "metadata": {},
   "outputs": [],
   "source": [
    "from selenium.webdriver.common.by import By\n",
    "from selenium import webdriver\n",
    "from time import sleep"
   ]
  },
  {
   "cell_type": "code",
   "execution_count": 9,
   "metadata": {},
   "outputs": [
    {
     "name": "stdout",
     "output_type": "stream",
     "text": [
      "Memilih tahun 2022 dan periode audit\n"
     ]
    }
   ],
   "source": [
    "# Define Chrome webdriver\n",
    "driver = webdriver.Chrome()\n",
    "\n",
    "# Forward the webdriver to the specified link\n",
    "url = 'https://www.idx.co.id/id/perusahaan-tercatat/laporan-keuangan-dan-tahunan/'\n",
    "driver.get(url)\n",
    "\n",
    "# Settings\n",
    "driver.implicitly_wait(3)  # 3 second timeout on waiting an element to be found\n",
    "\n",
    "# Finding year elements\n",
    "year_button = driver.find_elements(By.NAME, 'year')\n",
    "year_text = [int(i.get_attribute('value')) for i in year_button]\n",
    "\n",
    "year_dict = dict(zip(year_text, year_button))\n",
    "\n",
    "# Finding report's quarterly period elements\n",
    "period_button = driver.find_elements(By.NAME, 'period')\n",
    "period_text = [str(i.get_attribute('value')) for i in period_button]\n",
    "\n",
    "period_dict = dict(zip(period_text, period_button))\n",
    "\n",
    "# Input from user\n",
    "year = int(input(f'Masukkan Tahun {tuple(year_text)}: '))\n",
    "period = str(input(f'Masukkan Periode {tuple(period_text)}: '))\n",
    "\n",
    "print(f'Memilih tahun {year} dan periode {period}')\n",
    "year_dict[year].click()\n",
    "period_dict[period].click()\n",
    "\n",
    "search_button = driver.find_element(By.CSS_SELECTOR, '.btn--wider.btn--primary')\n",
    "search_button.click()\n",
    "\n",
    "sleep(30)\n",
    "\n",
    "driver.quit()"
   ]
  },
  {
   "cell_type": "code",
   "execution_count": null,
   "metadata": {},
   "outputs": [],
   "source": [
    "from selenium.webdriver.common.by import By\n",
    "from selenium import webdriver\n",
    "from time import sleep"
   ]
  },
  {
   "cell_type": "code",
   "execution_count": null,
   "metadata": {},
   "outputs": [],
   "source": [
    "class CompanyDetails:\n",
    "    def __init__(self, href: str, webdriver: None | webdriver.Chrome):\n",
    "        self.url_main = href\n",
    "        self.url_summary = href + '-financial-summary'\n",
    "        \n",
    "        if not webdriver:\n",
    "            self.webdriver = webdriver.Chrome()\n",
    "        else:\n",
    "            self.webdriver = webdriver\n",
    "\n",
    "        self.webdriver.implicitly_wait(3)\n",
    "\n",
    "        self.stock_code, self.name = self.get_name()\n",
    "        \n",
    "        ratios = self.get_ratios()\n",
    "        # self.ratio_pe = \n",
    "\n",
    "    def get_name(self):\n",
    "        self.webdriver.get(self.url_summary)\n",
    "\n",
    "        full_name = self.webdriver.find_element(By.TAG_NAME, 'h1').text\n",
    "        name = ' '.join(full_name.split()[:-1])\n",
    "        stock_code = full_name.split()[-1]\n",
    "        \n",
    "        return stock_code, name\n",
    "    \n",
    "    def get_ratios(self):\n",
    "        self.webdriver.get(self.url_summary)\n",
    "\n",
    "        ratios_elems = self.webdriver.find_element(By.CLASS_NAME, 'gap-x-6')\n",
    "        print(ratios_elems.text)\n"
   ]
  },
  {
   "cell_type": "code",
   "execution_count": null,
   "metadata": {},
   "outputs": [
    {
     "name": "stdout",
     "output_type": "stream",
     "text": [
      "Message: invalid selector: An invalid or illegal selector was specified\n",
      "  (Session info: chrome=136.0.7103.93); For documentation on this error, please visit: https://www.selenium.dev/documentation/webdriver/troubleshooting/errors#invalid-selector-exception\n",
      "Stacktrace:\n",
      "\tGetHandleVerifier [0x00007FF7568ACF25+75717]\n",
      "\tGetHandleVerifier [0x00007FF7568ACF80+75808]\n",
      "\t(No symbol) [0x00007FF756678F9A]\n",
      "\t(No symbol) [0x00007FF756680998]\n",
      "\t(No symbol) [0x00007FF756683A0C]\n",
      "\t(No symbol) [0x00007FF756683ADF]\n",
      "\t(No symbol) [0x00007FF7566CED77]\n",
      "\t(No symbol) [0x00007FF7566CF77C]\n",
      "\t(No symbol) [0x00007FF756722577]\n",
      "\t(No symbol) [0x00007FF7566F73BF]\n",
      "\t(No symbol) [0x00007FF75671F39C]\n",
      "\t(No symbol) [0x00007FF7566F7153]\n",
      "\t(No symbol) [0x00007FF7566C0421]\n",
      "\t(No symbol) [0x00007FF7566C11B3]\n",
      "\tGetHandleVerifier [0x00007FF756BAD6FD+3223453]\n",
      "\tGetHandleVerifier [0x00007FF756BA7CA2+3200322]\n",
      "\tGetHandleVerifier [0x00007FF756BC5AD3+3322739]\n",
      "\tGetHandleVerifier [0x00007FF7568C69FA+180890]\n",
      "\tGetHandleVerifier [0x00007FF7568CE0FF+211359]\n",
      "\tGetHandleVerifier [0x00007FF7568B5274+109332]\n",
      "\tGetHandleVerifier [0x00007FF7568B5422+109762]\n",
      "\tGetHandleVerifier [0x00007FF75689BA39+4825]\n",
      "\tBaseThreadInitThunk [0x00007FFD13717374+20]\n",
      "\tRtlUserThreadStart [0x00007FFD1457CC91+33]\n",
      "\n"
     ]
    }
   ],
   "source": [
    "# Define Chrome webdriver\n",
    "driver = webdriver.Chrome()\n",
    "\n",
    "try:\n",
    "    url = 'https://id.investing.com/equities/telkom-indones'\n",
    "    Telkom = CompanyDetails(url, driver)\n",
    "\n",
    "    print(Telkom.name)\n",
    "\n",
    "except Exception as e:\n",
    "    print(e)\n",
    "\n",
    "driver.quit()"
   ]
  },
  {
   "cell_type": "code",
   "execution_count": null,
   "metadata": {},
   "outputs": [
    {
     "name": "stdout",
     "output_type": "stream",
     "text": [
      "['https://id.investing.com/equities/ahap-tbk', 'https://id.investing.com/equities/apac-citra-cen', 'https://id.investing.com/equities/arkaprin', 'https://id.investing.com/equities/austindo-nusan', 'https://id.investing.com/equities/bank-bumi-arta', 'https://id.investing.com/equities/bank-maspion-i', 'https://id.investing.com/equities/bank-ocbc-nisp', 'https://id.investing.com/equities/bank-of-india-jk', 'https://id.investing.com/equities/bank-qnb-kesaw', 'https://id.investing.com/equities/bayu-buana-tbk', 'https://id.investing.com/equities/buana-finance', 'https://id.investing.com/equities/delta-jakarta', 'https://id.investing.com/equities/destinasi-tirt', 'https://id.investing.com/equities/elang-mahkota', 'https://id.investing.com/equities/enseval-putera', 'https://id.investing.com/equities/equity-develop', 'https://id.investing.com/equities/eratex-djaja-t', 'https://id.investing.com/equities/ever-shine-tex', 'https://id.investing.com/equities/fast-food-indo', 'https://id.investing.com/equities/fks-multi-agro', 'https://id.investing.com/equities/golden-energy', 'https://id.investing.com/equities/indo-kordsa-tb', 'https://id.investing.com/equities/indo-straits', 'https://id.investing.com/equities/indorama-synte', 'https://id.investing.com/equities/jkt-kyoei-stee', 'https://id.investing.com/equities/kabelindo-murn', 'https://id.investing.com/equities/kedaung-indah', 'https://id.investing.com/equities/kokoh-inti-are', 'https://id.investing.com/equities/limas-centric', 'https://id.investing.com/equities/lionmesh-prima', 'https://id.investing.com/equities/lotte-chemical', 'https://id.investing.com/equities/mandala-multif', 'https://id.investing.com/equities/marein-tbk', 'https://id.investing.com/equities/metro-realty', 'https://id.investing.com/equities/metropolitan-k', 'https://id.investing.com/equities/multifiling-mi', 'https://id.investing.com/equities/onix-capital', 'https://id.investing.com/equities/p-graha-lestar', 'https://id.investing.com/equities/p-tempuran-ema', 'https://id.investing.com/equities/panasia-indo-r', 'https://id.investing.com/equities/pelayaran-nell', 'https://id.investing.com/equities/pikko-land-dev', 'https://id.investing.com/equities/pioneerindo-go', 'https://id.investing.com/equities/plaza-indonesi', 'https://id.investing.com/equities/pool-advista-i', 'https://id.investing.com/equities/prasidha-aneka', 'https://id.investing.com/equities/provident-agro', 'https://id.investing.com/equities/pudjiadi---son', 'https://id.investing.com/equities/reliance-secur', 'https://id.investing.com/equities/ricky-putra-gl', 'https://id.investing.com/equities/rig-tender-ind', 'https://id.investing.com/equities/samudera-indon', 'https://id.investing.com/equities/sekar-bumi', 'https://id.investing.com/equities/sepatu-bata-tb', 'https://id.investing.com/equities/smr-utama', 'https://id.investing.com/equities/sona-topas-tou', 'https://id.investing.com/equities/sucaco', 'https://id.investing.com/equities/sunson-textil', 'https://id.investing.com/equities/surya-toto-ind', 'https://id.investing.com/equities/suryamas-dutam', 'https://id.investing.com/equities/tifico-fiber', 'https://id.investing.com/equities/tigaraksa-satr', 'https://id.investing.com/equities/trans-power-ma', 'https://id.investing.com/equities/trias-sentosa', 'https://id.investing.com/equities/trikomsel-oke', 'https://id.investing.com/equities/abm-investama', 'https://id.investing.com/equities/ace-hardware-i', 'https://id.investing.com/equities/acset-indonusa', 'https://id.investing.com/equities/adaro-energy-t', 'https://id.investing.com/equities/adhi-karya-tbk', 'https://id.investing.com/equities/adi-sarana-arm', 'https://id.investing.com/equities/adira-finance', 'https://id.investing.com/equities/agung-podomoro', 'https://id.investing.com/equities/akasha-wira-in', 'https://id.investing.com/equities/akbar-indo-mak', 'https://id.investing.com/equities/akr-corporindo', 'https://id.investing.com/equities/alam-sutera-re', 'https://id.investing.com/equities/alkindo-narata', 'https://id.investing.com/equities/alumindo-light', 'https://id.investing.com/equities/ancora-indones', 'https://id.investing.com/equities/aneka-tambang', 'https://id.investing.com/equities/apexindo-prata', 'https://id.investing.com/equities/arita-prima-in', 'https://id.investing.com/equities/arthavest-tbk', 'https://id.investing.com/equities/arwana-citramu', 'https://id.investing.com/equities/as-dayin-mitra', 'https://id.investing.com/equities/as-multi-artha', 'https://id.investing.com/equities/as-ramayana', 'https://id.investing.com/equities/asahimas-flat', 'https://id.investing.com/equities/asia-pacific-f', 'https://id.investing.com/equities/asiaplast-indu', 'https://id.investing.com/equities/astra-agro-les', 'https://id.investing.com/equities/astra-graphia', 'https://id.investing.com/equities/astra-intl-tbk', 'https://id.investing.com/equities/astra-otoparts', 'https://id.investing.com/equities/asuransi-mitra', 'https://id.investing.com/equities/atlas-resource', 'https://id.investing.com/equities/bakrie-brother', 'https://id.investing.com/equities/bakrie-sumater', 'https://id.investing.com/equities/bakrie-telecom', 'https://id.investing.com/equities/bakrieland-dev', 'https://id.investing.com/equities/bank-artha-gra', 'https://id.investing.com/equities/bank-bni-tbk', 'https://id.investing.com/equities/bank-bukopin', 'https://id.investing.com/equities/bank-capital-i', 'https://id.investing.com/equities/bank-danamon-t', 'https://id.investing.com/equities/bank-hmp-sauda', 'https://id.investing.com/equities/bank-icb-bumip', 'https://id.investing.com/equities/bank-ina-perda', 'https://id.investing.com/equities/bank-intl-indo', 'https://id.investing.com/equities/bank-mandiri-t', 'https://id.investing.com/equities/bank-mayapada', 'https://id.investing.com/equities/bank-mega-tbk', 'https://id.investing.com/equities/bank-mestika-d', 'https://id.investing.com/equities/bank-nationaln', 'https://id.investing.com/equities/bank-p-jawa-ba', 'https://id.investing.com/equities/bank-panin', 'https://id.investing.com/equities/bank-panin-sya', 'https://id.investing.com/equities/bank-pembangun', 'https://id.investing.com/equities/bank-permata-t', 'https://id.investing.com/equities/bank-pundi', 'https://id.investing.com/equities/bank-rakyat-in', 'https://id.investing.com/equities/bank-sinarmas', 'https://id.investing.com/equities/bank-tab-negar', 'https://id.investing.com/equities/bank-tab-pensi', 'https://id.investing.com/equities/bank-victoria', 'https://id.investing.com/equities/bank-windu-k-i', 'https://id.investing.com/equities/baramulti-suks', 'https://id.investing.com/equities/barito-pacific', 'https://id.investing.com/equities/bayan-resource', 'https://id.investing.com/equities/bekasi-asri-pe', 'https://id.investing.com/equities/bekasi-fajar-i', 'https://id.investing.com/equities/benakat-integr', 'https://id.investing.com/equities/berlina-tbk', 'https://id.investing.com/equities/betonjaya-manu', 'https://id.investing.com/equities/bfi-finance-in', 'https://id.investing.com/equities/bhuwanatala-i', 'https://id.investing.com/equities/bisi-internati', 'https://id.investing.com/equities/bnk-central-as', 'https://id.investing.com/equities/bri-agroniaga', 'https://id.investing.com/equities/buana-listya-t', 'https://id.investing.com/equities/budi-starch--', 'https://id.investing.com/equities/bukit-darmo-pr', 'https://id.investing.com/equities/bukit-uluwatu', 'https://id.investing.com/equities/bumi-citra-per', 'https://id.investing.com/equities/bumi-r-mineral', 'https://id.investing.com/equities/bumi-resources', 'https://id.investing.com/equities/bumi-serpong-d', 'https://id.investing.com/equities/bumi-teknokult', 'https://id.investing.com/equities/bw-plantation', 'https://id.investing.com/equities/capitalinc-inv', 'https://id.investing.com/equities/capitol-nusant', 'https://id.investing.com/equities/cardig-aero-se', 'https://id.investing.com/equities/catur-sentosa', 'https://id.investing.com/equities/central-protei', 'https://id.investing.com/equities/centrin-online', 'https://id.investing.com/equities/centris-multi', 'https://id.investing.com/equities/champion-pasif', 'https://id.investing.com/equities/chandra-asri-p', 'https://id.investing.com/equities/charoen-pokpha', 'https://id.investing.com/equities/ciputra-develo', 'https://id.investing.com/equities/citatah-indust', 'https://id.investing.com/equities/citra-marga-n', 'https://id.investing.com/equities/clipan-finance', 'https://id.investing.com/equities/colorpak-indon', 'https://id.investing.com/equities/cowell-develop', 'https://id.investing.com/equities/darma-henwa-tb', 'https://id.investing.com/equities/darya-varia-la', 'https://id.investing.com/equities/delta-dunia-ma', 'https://id.investing.com/equities/dharma-samuder', 'https://id.investing.com/equities/dharma-satya-n', 'https://id.investing.com/equities/dt-pertiwi-nus', 'https://id.investing.com/equities/duta-anggada-r', 'https://id.investing.com/equities/duta-pertiwi-t', 'https://id.investing.com/equities/dyandra-media', 'https://id.investing.com/equities/ekadharma-inte', 'https://id.investing.com/equities/electronic-cit', 'https://id.investing.com/equities/elnusa-tbk', 'https://id.investing.com/equities/energi-mega-pe', 'https://id.investing.com/equities/erajaya-swasem', 'https://id.investing.com/equities/eterindo-wahan', 'https://id.investing.com/equities/eureka-prima', 'https://id.investing.com/equities/exploitasi-ene', 'https://id.investing.com/equities/express-transi', 'https://id.investing.com/equities/fajar-surya-wi', 'https://id.investing.com/equities/first-media-tb', 'https://id.investing.com/equities/fortune-indone', 'https://id.investing.com/equities/fortune-mate-i', 'https://id.investing.com/equities/gading-develop', 'https://id.investing.com/equities/gajah-tunggal', 'https://id.investing.com/equities/garda-tujuh-bu', 'https://id.investing.com/equities/garuda-indones', 'https://id.investing.com/equities/gema-grahasara', 'https://id.investing.com/equities/global-mediaco', 'https://id.investing.com/equities/global-telesho', 'https://id.investing.com/equities/golden-eagle-e', 'https://id.investing.com/equities/golden-retail', 'https://id.investing.com/equities/gowa-makassar', 'https://id.investing.com/equities/gozco-plantati', 'https://id.investing.com/equities/graha-layar-pr', 'https://id.investing.com/equities/grand-kartech', 'https://id.investing.com/equities/greenwood-seja', 'https://id.investing.com/equities/gudang-garam-t', 'https://id.investing.com/equities/gunawan-dianja', 'https://id.investing.com/equities/hanson-int-sb', 'https://id.investing.com/equities/harum-energy', 'https://id.investing.com/equities/hero-super-mar', 'https://id.investing.com/equities/hexindo-adiper', 'https://id.investing.com/equities/holcim-indones', 'https://id.investing.com/equities/hotel-mandarin', 'https://id.investing.com/equities/hotel-sahid-ja', 'https://id.investing.com/equities/ictsi-jasa-pri', 'https://id.investing.com/equities/ind-air-transp', 'https://id.investing.com/equities/indah-kiat-pul', 'https://id.investing.com/equities/indal-aluminiu', 'https://id.investing.com/equities/indika-energy', 'https://id.investing.com/equities/indo-acidatama', 'https://id.investing.com/equities/indo-tambangra', 'https://id.investing.com/equities/indocement-t-p', 'https://id.investing.com/equities/indofarma-tbk', 'https://id.investing.com/equities/indofood-cbp', 'https://id.investing.com/equities/indofood-s-m-t', 'https://id.investing.com/equities/indomobil-mult', 'https://id.investing.com/equities/indomobil-suks', 'https://id.investing.com/equities/indopoly-swaka', 'https://id.investing.com/equities/indoritel-makm', 'https://id.investing.com/equities/indosat-tbk', 'https://id.investing.com/equities/indospring-tbk', 'https://id.investing.com/equities/industri-jamu', 'https://id.investing.com/equities/intanwijaya-in', 'https://id.investing.com/equities/intermedia-cap', 'https://id.investing.com/equities/inti-bangun-se', 'https://id.investing.com/equities/intikeramik-al', 'https://id.investing.com/equities/intiland-devel', 'https://id.investing.com/equities/intraco-penta', 'https://id.investing.com/equities/island-concept', 'https://id.investing.com/equities/j-resources-as', 'https://id.investing.com/equities/j.a.-wattie', 'https://id.investing.com/equities/japfa-comfeed', 'https://id.investing.com/equities/jasa-marga', 'https://id.investing.com/equities/jasuindo-tiga', 'https://id.investing.com/equities/jaya-konstruks', 'https://id.investing.com/equities/jaya-real-prop', 'https://id.investing.com/equities/jembo-cable-co', 'https://id.investing.com/equities/jkt-intl-hotel', 'https://id.investing.com/equities/k-i-jababeka', 'https://id.investing.com/equities/kalbe-farma-tb', 'https://id.investing.com/equities/kedawung-setia', 'https://id.investing.com/equities/keramika-indon', 'https://id.investing.com/equities/kertas-basuki', 'https://id.investing.com/equities/kimia-farma', 'https://id.investing.com/equities/kmi-wire-n-cab', 'https://id.investing.com/equities/kobexindo-trac', 'https://id.investing.com/equities/krakatau-steel', 'https://id.investing.com/equities/kresna-graha-s', 'https://id.investing.com/equities/langgeng-makmu', 'https://id.investing.com/equities/lautan-luas-tb', 'https://id.investing.com/equities/leyand-interna', 'https://id.investing.com/equities/lippo-cikarang', 'https://id.investing.com/equities/lippo-general', 'https://id.investing.com/equities/lippo-karawaci', 'https://id.investing.com/equities/lippo-securiti', 'https://id.investing.com/equities/logindo-samudr', 'https://id.investing.com/equities/london-sumatra', 'https://id.investing.com/equities/mahaka-media-t', 'https://id.investing.com/equities/malindo-feedmi', 'https://id.investing.com/equities/mandom-indones', 'https://id.investing.com/equities/martina-berto', 'https://id.investing.com/equities/matahari-depar', 'https://id.investing.com/equities/matahari-putra', 'https://id.investing.com/equities/mayora-indah-t', 'https://id.investing.com/equities/medco-energi-i', 'https://id.investing.com/equities/media-nusantar', 'https://id.investing.com/equities/megapolitan-de', 'https://id.investing.com/equities/metrodata-elec', 'https://id.investing.com/equities/metropolitan-l', 'https://id.investing.com/equities/midi-utama', 'https://id.investing.com/equities/millennium-p-i', 'https://id.investing.com/equities/minna-padi-inv', 'https://id.investing.com/equities/mitra-adiperka', 'https://id.investing.com/equities/mitra-internat', 'https://id.investing.com/equities/mitra-investin', 'https://id.investing.com/equities/mitra-pinasthi', 'https://id.investing.com/equities/mitrabahtera-s', 'https://id.investing.com/equities/mnc-investama', 'https://id.investing.com/equities/mnc-kapital', 'https://id.investing.com/equities/mnc-land-tbk', 'https://id.investing.com/equities/mnc-sky-vision', 'https://id.investing.com/equities/modern-interna', 'https://id.investing.com/equities/modernland-rea', 'https://id.investing.com/equities/mulia-industri', 'https://id.investing.com/equities/multi-agro-gem', 'https://id.investing.com/equities/multi-bintang', 'https://id.investing.com/equities/multi-indocitr', 'https://id.investing.com/equities/multi-prima-se', 'https://id.investing.com/equities/multipolar-tbk', 'https://id.investing.com/equities/multipolar-tec', 'https://id.investing.com/equities/multistrada-ar', 'https://id.investing.com/equities/mustika-ratu-t', 'https://id.investing.com/equities/nippon-indosar', 'https://id.investing.com/equities/nipress-tbk', 'https://id.investing.com/equities/nirvana-develo', 'https://id.investing.com/equities/nusa-konstruks', 'https://id.investing.com/equities/nusa-raya-cipt', 'https://id.investing.com/equities/nusantara-infr', 'https://id.investing.com/equities/p-gas-negara-t', 'https://id.investing.com/equities/p-jaya-ancol', 'https://id.investing.com/equities/pacific-strate', 'https://id.investing.com/equities/pakuwon-jati-t', 'https://id.investing.com/equities/pan-brothers-t', 'https://id.investing.com/equities/panin-financia', 'https://id.investing.com/equities/paninvest', 'https://id.investing.com/equities/panin-sekurita', 'https://id.investing.com/equities/panorama-sentr', 'https://id.investing.com/equities/panorama-trans', 'https://id.investing.com/equities/pelangi-indah', 'https://id.investing.com/equities/pelat-timah-nu', 'https://id.investing.com/equities/pelayaran-nasi', 'https://id.investing.com/equities/perdana-gapura', 'https://id.investing.com/equities/perdana-karya', 'https://id.investing.com/equities/petrosea-tbk', 'https://id.investing.com/equities/polaris-invest', 'https://id.investing.com/equities/polychem-indon', 'https://id.investing.com/equities/pp-persero', 'https://id.investing.com/equities/prima-alloy-st', 'https://id.investing.com/equities/pudjiadi-prest', 'https://id.investing.com/equities/pyridam-farma', 'https://id.investing.com/equities/radiant-utama', 'https://id.investing.com/equities/ramayana-lesta', 'https://id.investing.com/equities/ratu-prabu-ene', 'https://id.investing.com/equities/renuka-coalind', 'https://id.investing.com/equities/resource-alam', 'https://id.investing.com/equities/rimo-catur-les', 'https://id.investing.com/equities/ristia-bintang', 'https://id.investing.com/equities/rukun-raharja', 'https://id.investing.com/equities/salim-ivomas-p', 'https://id.investing.com/equities/samindo-resour', 'https://id.investing.com/equities/sampoerna-agro', 'https://id.investing.com/equities/sarana-meditam', 'https://id.investing.com/equities/sarana-menara', 'https://id.investing.com/equities/saranacentral', 'https://id.investing.com/equities/saraswati-griy', 'https://id.investing.com/equities/saratoga-inves', 'https://id.investing.com/equities/sat-nusapersad', 'https://id.investing.com/equities/sawit-sumberma', 'https://id.investing.com/equities/sejahteraraya', 'https://id.investing.com/equities/selamat-sempur', 'https://id.investing.com/equities/semen-baturaja', 'https://id.investing.com/equities/semen-indonesi', 'https://id.investing.com/equities/sentul-city-tb', 'https://id.investing.com/equities/siantar-top-tb', 'https://id.investing.com/equities/sidomulyo-sela', 'https://id.investing.com/equities/sierad-produce', 'https://id.investing.com/equities/siloam-interna', 'https://id.investing.com/equities/sinar-mas-mult', 'https://id.investing.com/equities/slj-global', 'https://id.investing.com/equities/smart-tbk', 'https://id.investing.com/equities/solusi-tunas-p', 'https://id.investing.com/equities/sri-rejeki-ism', 'https://id.investing.com/equities/star-pacific', 'https://id.investing.com/equities/star-petrochem', 'https://id.investing.com/equities/steel-pipe-ind', 'https://id.investing.com/equities/sugih-energy', 'https://id.investing.com/equities/sumber-alfaria', 'https://id.investing.com/equities/summarecon-agu', 'https://id.investing.com/equities/suparma-tbk', 'https://id.investing.com/equities/supra-boga-les', 'https://id.investing.com/equities/surya-citra-me', 'https://id.investing.com/equities/surya-esa-perk', 'https://id.investing.com/equities/surya-semesta', 'https://id.investing.com/equities/tanah-laut', 'https://id.investing.com/equities/tb-bukit-asam', 'https://id.investing.com/equities/telkom-indones', 'https://id.investing.com/equities/tempo-inti-med', 'https://id.investing.com/equities/tempo-scan-pac', 'https://id.investing.com/equities/tifa-finance', 'https://id.investing.com/equities/tiga-pilar-sej', 'https://id.investing.com/equities/timah-tbk', 'https://id.investing.com/equities/tiphone-mobile', 'https://id.investing.com/equities/tirta-mahakam', 'https://id.investing.com/equities/tjiwi-kimia-tb', 'https://id.investing.com/equities/toba-bara-seja', 'https://id.investing.com/equities/toba-pulp-lest', 'https://id.investing.com/equities/total-bangun-p', 'https://id.investing.com/equities/tower-bersama', 'https://id.investing.com/equities/trada-maritime', 'https://id.investing.com/equities/tri-banyan-tir', 'https://id.investing.com/equities/trimegah-secur', 'https://id.investing.com/equities/trisula-intern', 'https://id.investing.com/equities/triwira-insanl', 'https://id.investing.com/equities/tunas-alfin', 'https://id.investing.com/equities/tunas-b-lampun', 'https://id.investing.com/equities/ultrajaya-milk', 'https://id.investing.com/equities/unilever-indon', 'https://id.investing.com/equities/united-tractor', 'https://id.investing.com/equities/vale-indonesia', 'https://id.investing.com/equities/verena-multi-f', 'https://id.investing.com/equities/victoria-inves', 'https://id.investing.com/equities/visi-media-asi', 'https://id.investing.com/equities/voksel-electri', 'https://id.investing.com/equities/wahana-ottomit', 'https://id.investing.com/equities/wahana-pronatu', 'https://id.investing.com/equities/wicaksana-oves', 'https://id.investing.com/equities/wijaya-karya', 'https://id.investing.com/equities/wijaya-karya-b', 'https://id.investing.com/equities/wilmar-cahaya', 'https://id.investing.com/equities/wintermar-offs', 'https://id.investing.com/equities/wismilak-inti', 'https://id.investing.com/equities/xl-axiata', 'https://id.investing.com/equities/yanaprima-hast', 'https://id.investing.com/equities/zebra-nusantar', 'https://id.investing.com/equities/bali-towerindo', 'https://id.investing.com/equities/eka-sari-loren', 'https://id.investing.com/equities/indonesian-p-p', 'https://id.investing.com/equities/nusantara-inti', 'https://id.investing.com/equities/unggul-indah-c', 'https://id.investing.com/equities/as-bina-dana-a', 'https://id.investing.com/equities/batavia-prospe', 'https://id.investing.com/equities/lion-metal-wor', 'https://id.investing.com/equities/sumi-indo-kabe', 'https://id.investing.com/equities/dian-swastatik', 'https://id.investing.com/equities/asuransi-binta', 'https://id.investing.com/equities/chitose-intern', 'https://id.investing.com/equities/link-net', 'https://id.investing.com/equities/soechi-lines-tbk-pt', 'https://id.investing.com/equities/intan-baruprana-finance-tbk-pt', 'https://id.investing.com/equities/bank-agris-pt', 'https://id.investing.com/equities/golden-plantation-pt', 'https://id.investing.com/equities/tembaga-mulia', 'https://id.investing.com/equities/h-m-sampoerna', 'https://id.investing.com/equities/mas-murni-sb', 'https://id.investing.com/equities/goodyear-indon', 'https://id.investing.com/equities/as-jasa-tania', 'https://id.investing.com/equities/bank-cimb-niag', 'https://id.investing.com/equities/yulie-sekurind', 'https://id.investing.com/equities/panca-global-s', 'https://id.investing.com/equities/hd-capital', 'https://id.investing.com/equities/humpuss-interm', 'https://id.investing.com/equities/batavia-prosperindo-inter-tbk-pt', 'https://id.investing.com/equities/magna-finance', 'https://id.investing.com/equities/sitara-propert', 'https://id.investing.com/equities/bank-dinar-ind', 'https://id.investing.com/equities/mitrabara-adip', 'https://id.investing.com/equities/blue-bird', 'https://id.investing.com/equities/impack-pratama', 'https://id.investing.com/equities/indo-prima-prope', 'https://id.investing.com/equities/siwani-makmur', 'https://id.investing.com/equities/bank-yudha-bhakti-pt', 'https://id.investing.com/equities/roda-vivatex-tbk-pt', 'https://id.investing.com/equities/merck-tbk-pt', 'https://id.investing.com/equities/jakarta-setiabudi-int', 'https://id.investing.com/equities/citra-tubindo-tbk-pt', 'https://id.investing.com/equities/sekar-laut-tbk-pt', 'https://id.investing.com/equities/danasupra-erapacific-tbk-pt', 'https://id.investing.com/equities/inti-agri-resources-tbk-pt', 'https://id.investing.com/equities/trust-finance-indonesia-tbk-pt', 'https://id.investing.com/equities/bintang-mitra-semestaraya', 'https://id.investing.com/equities/tira-austenite-tbk-pt', 'https://id.investing.com/equities/inter-delta-tbk-pt', 'https://id.investing.com/equities/mitra-keluarga-karyasehat', 'https://id.investing.com/equities/red-planet-indonesia-tbk', 'https://id.investing.com/equities/mitra-energi-persada-tbk-pt', 'https://id.investing.com/equities/alakasa-industrindo-tbk', 'https://id.investing.com/equities/pp-properti-tbk-pt', 'https://id.investing.com/equities/argo-pantes-tbk', 'https://id.investing.com/equities/puradelta-lestari-tbk-pt', 'https://id.investing.com/equities/radana-bhaskara-finance-tbk', 'https://id.investing.com/equities/merdeka-copper-gold-tbk-pt', 'https://id.investing.com/equities/mega-manunggal-property', 'https://id.investing.com/equities/steady-safe-tbk-pt', 'https://id.investing.com/equities/bukaka-teknik-utama', 'https://id.investing.com/equities/anabatic-technologies-tbk', 'https://id.investing.com/equities/binakarya-jaya-abadi-tbk-pt', 'https://id.investing.com/equities/garuda-metalindo-tbk', 'https://id.investing.com/equities/bank-harda-internasional-tbk-pt', 'https://id.investing.com/equities/victoria-insurance-tbk-pt', 'https://id.investing.com/equities/mitra-komunikasi-nusantara-tbk-pt', 'https://id.investing.com/equities/ateliers-mecaniques-d-indonesie-tbk', 'https://id.investing.com/equities/primarindo-asia-infrastructure-tbk', 'https://id.investing.com/equities/dua-putra-utama-makmur-pt', 'https://id.investing.com/equities/indonesia-pondasi-raya-tbk-pt', 'https://id.investing.com/equities/kino-indonesia-tbk-pt', 'https://id.investing.com/equities/bank-artos-indonesia-tbk-pt', 'https://id.investing.com/equities/mahaka-radio-integra-tbk-pt', 'https://id.investing.com/equities/mitra-pemuda-tbk-pt', 'https://id.investing.com/equities/bank-ganesha-tbk-pt', 'https://id.investing.com/equities/cikarang-listrindo-tbk-pt', 'https://id.investing.com/equities/duta-intidaya-tbk-pt', 'https://id.investing.com/equities/sillo-maritime-perdana-tbk-pt', 'https://id.investing.com/equities/graha-andrasentra-propertindo', 'https://id.investing.com/equities/capital-financial-indonesia-tbk-pt', 'https://id.investing.com/equities/protech-mitra-perkasa-tbk-pt', 'https://id.investing.com/equities/indo-komoditi-korpora-tbk-pt', 'https://id.investing.com/equities/waskita-beton-precast-tbk-pt', 'https://id.investing.com/equities/aneka-gas-industri-tbk-pt', 'https://id.investing.com/equities/paramita-bangun-sarana-tbk-pt', 'https://id.investing.com/equities/prodia-widyahusada-tbk-pt', 'https://id.investing.com/equities/bintang-oto-global-tbk-pt', 'https://id.investing.com/equities/nusantara-pelabuhan-handal-tbk-pt', 'https://id.investing.com/equities/anugerah-kagum-karya-utama-tbk-pt', 'https://id.investing.com/equities/central-omega-resources-tbk-pt', 'https://id.investing.com/equities/sumber-energi-andalan-tbk-pt', 'https://id.investing.com/equities/perdana-bangun-pusaka-tbk-pt', 'https://id.investing.com/equities/industri-dan-perdagangan-bintraco', 'https://id.investing.com/equities/forza-land-indonesia-tbk-pt', 'https://id.investing.com/equities/sanurhasta-mitra-pt', 'https://id.investing.com/equities/sariguna-primatirta-pt', 'https://id.investing.com/equities/pt-cahayasakti-investindo-sukses', 'https://id.investing.com/equities/pt-pelayaran-tamarin-samudra-tbk', 'https://id.investing.com/equities/terregra-asia-energy-pt', 'https://id.investing.com/equities/megapower-makmur', 'https://id.investing.com/equities/armidian-karyatama', 'https://id.investing.com/equities/totalindo-eka-persada', 'https://id.investing.com/equities/buyung-poetra-sembada', 'https://id.investing.com/equities/kirana-megatara', 'https://id.investing.com/equities/hartadinata-abadi', 'https://id.investing.com/equities/integra-indocabinet', 'https://id.investing.com/equities/alfa-energi-investama', 'https://id.investing.com/equities/map-boga-adiperkasa', 'https://id.investing.com/equities/marga-abhinaya-abadi', 'https://id.investing.com/equities/mark-dynamics-indonesia', 'https://id.investing.com/equities/ayana-land', 'https://id.investing.com/equities/emdeki-utama', 'https://id.investing.com/equities/trisula-textile', 'https://id.investing.com/equities/kioson-komersial', 'https://id.investing.com/equities/garuda-maintenance-facility', 'https://id.investing.com/equities/malacca-trust-wuwungan', 'https://id.investing.com/equities/kapuas-prima-coal', 'https://id.investing.com/equities/majapahit-intiora', 'https://id.investing.com/equities/pembangunan-perumahan', 'https://id.investing.com/equities/wijaya-karya-bangunan-gedung', 'https://id.investing.com/equities/m-cash-integrasi-pt', 'https://id.investing.com/equities/pelita-samudera', 'https://id.investing.com/equities/asuransi-jiwa-syariah', 'https://id.investing.com/equities/campina-ice-cream', 'https://id.investing.com/equities/dwi-guna-laksana', 'https://id.investing.com/equities/jasa-armada-indonesia', 'https://id.investing.com/equities/panca-budi-idaman', 'https://id.investing.com/equities/prima-cakrawala-abadi', 'https://id.investing.com/equities/lck-global-kedaton', 'https://id.investing.com/equities/cita-mineral', 'https://id.investing.com/equities/borneo-olah-sarana', 'https://id.investing.com/equities/jaya-trishindo', 'https://id.investing.com/equities/sky-energy', 'https://id.investing.com/equities/gihon-telekom', 'https://id.investing.com/equities/indah-prakasa-sentosa', 'https://id.investing.com/equities/tridomain-performance', 'https://id.investing.com/equities/pt-dafam-property', 'https://id.investing.com/equities/bank-brisyariah', 'https://id.investing.com/equities/pt-surya-pertiwi', 'https://id.investing.com/equities/medikaloka-hermina', 'https://id.investing.com/equities/guna-timur-raya', 'https://id.investing.com/equities/pt-sarimelati-kencana', 'https://id.investing.com/equities/sriwahana', 'https://id.investing.com/equities/asuransi-tugu-pratama', 'https://id.investing.com/equities/mnc-studios', 'https://id.investing.com/equities/steadfast-marine', 'https://id.investing.com/equities/bank-tabungan-pensiunan', 'https://id.investing.com/equities/charnic-capital', 'https://id.investing.com/equities/royal-prima', 'https://id.investing.com/equities/skybee', 'https://id.investing.com/equities/pt-trimuda-nuansa', 'https://id.investing.com/equities/batavia-prosperindo-trans', 'https://id.investing.com/equities/pt-kendaraan-terminal', 'https://id.investing.com/equities/jaya-sukses-makmur', 'https://id.investing.com/equities/map-aktif-adiperkasa', 'https://id.investing.com/equities/transcoal-pacific', 'https://id.investing.com/equities/pollux-properti', 'https://id.investing.com/equities/mahkota', 'https://id.investing.com/equities/nfc-indonesia', 'https://id.investing.com/equities/sinergi-megah-internusa', 'https://id.investing.com/equities/md-pictures', 'https://id.investing.com/equities/andira-agro', 'https://id.investing.com/equities/trimitra-propertindo', 'https://id.investing.com/equities/madusari-murni-indah', 'https://id.investing.com/equities/arkadia-digital', 'https://id.investing.com/equities/pratama-abadi-nusa', 'https://id.investing.com/equities/natura-city', 'https://id.investing.com/equities/hk-metals-utama', 'https://id.investing.com/equities/cottonindo-ariesta', 'https://id.investing.com/equities/propertindo-mulia', 'https://id.investing.com/equities/satria-antaran-prima', 'https://id.investing.com/equities/super-energy', 'https://id.investing.com/equities/garudafood-putra-putri', 'https://id.investing.com/equities/superkrane-mitra-utama', 'https://id.investing.com/equities/cahayaputra-asa-keramik', 'https://id.investing.com/equities/kota-satu', 'https://id.investing.com/equities/yelooo-integra', 'https://id.investing.com/equities/shield-on-service', 'https://id.investing.com/equities/dewata-freight', 'https://id.investing.com/equities/pool-advista-finance', 'https://id.investing.com/equities/nusantara-voucher', 'https://id.investing.com/equities/sentral-mitra-informatika', 'https://id.investing.com/equities/satria-mega-kencana', 'https://id.investing.com/equities/urban-jakarta-propertindo', 'https://id.investing.com/equities/mega-perintis', 'https://id.investing.com/equities/phapros', 'https://id.investing.com/equities/sentra-food', 'https://id.investing.com/equities/estika-tata-tiara', 'https://id.investing.com/equities/pollux-investasi', 'https://id.investing.com/equities/citra-putra', 'https://id.investing.com/equities/nusantara-properti', 'https://id.investing.com/equities/armada-berjaya', 'https://id.investing.com/equities/pt-wahana-interfood', 'https://id.investing.com/equities/meta-epsi-tbk-pt', 'https://id.investing.com/equities/capri-nusa-satu-properti-tbk-pt', 'https://id.investing.com/equities/menteng-heritage-realty-tbk-pt', 'https://id.investing.com/equities/bliss-properti-indonesia-tbk-pt', 'https://id.investing.com/equities/jasnita-telekom', 'https://id.investing.com/equities/hotel-fitra-international-tbk-pt', 'https://id.investing.com/equities/bali-bintang-sejahtera-tbk-pt', 'https://id.investing.com/equities/communication-cable-systems-tbk-pt', 'https://id.investing.com/equities/surya-fajar-capital-tbk-pt', 'https://id.investing.com/equities/golden-flower-tbk-pt', 'https://id.investing.com/equities/bima-sakti-pertiwi-tbk-pt', 'https://id.investing.com/equities/darmi-bersaudara-tbk-pt', 'https://id.investing.com/equities/indonesian-tobacco-tbk-pt', 'https://id.investing.com/equities/krida-jaringan-nusantara-tbk-pt', 'https://id.investing.com/equities/envy-technologies-indonesia-tbk-pt', 'https://id.investing.com/equities/berkah-prima-perkasa-tbk-pt', 'https://id.investing.com/equities/mnc-vision-networks-pt', 'https://id.investing.com/equities/hensel-davest-indonesia-tbk-pt', 'https://id.investing.com/equities/satyamitra-kemas-lestari-tbk-pt', 'https://id.investing.com/equities/inocycle-technology-tbk-pt', 'https://id.investing.com/equities/arkha-jayanti-persada-pt', 'https://id.investing.com/equities/eastparc-hotel-tbk-pt', 'https://id.investing.com/equities/asuransi-jiwa-sinarmas-msig-pt', 'https://id.investing.com/equities/fuji-finance-indonesia-tbk-pt', 'https://id.investing.com/equities/dms-propertindo-tbk-pt', 'https://id.investing.com/equities/kencana-energi-lestari', 'https://id.investing.com/equities/telefast-indonesia', 'https://id.investing.com/equities/bhakti-agung-propertindo', 'https://id.investing.com/equities/gunung-raja-paksi', 'https://id.investing.com/equities/optima-prima-metal-sinergi', 'https://id.investing.com/equities/nusantara-almazia', 'https://id.investing.com/equities/gaya-abadi-sempurna', 'https://id.investing.com/equities/trinitan-metals-and-minerals', 'https://id.investing.com/equities/itama-ranoraya', 'https://id.investing.com/equities/digital-mediatama-maxima-pt', 'https://id.investing.com/equities/ginting-jaya-energi', 'https://id.investing.com/equities/singaraja-putra', 'https://id.investing.com/equities/sinergi-inti-plastindo', 'https://id.investing.com/equities/dana-brata-luhur', 'https://id.investing.com/equities/mulia-boga-raya-pt', 'https://id.investing.com/equities/palma-serasih-pt', 'https://id.investing.com/equities/asia-sejahtera-mina-tbk', 'https://id.investing.com/equities/ifishdeco-pt', 'https://id.investing.com/equities/repower-asia-indonesia-pt', 'https://id.investing.com/equities/indonesia-fibreboard-industry-pt', 'https://id.investing.com/equities/uni-charm-indonesia-pt', 'https://id.investing.com/equities/putra-mandiri-jembar-tbk-pt', 'https://id.investing.com/equities/galva-technologies-tbk-pt', 'https://id.investing.com/equities/tourindo-guide-indonesia-pt', 'https://id.investing.com/equities/cisadane-sawit-raya-pt', 'https://id.investing.com/equities/bank-amar-indonesia', 'https://id.investing.com/equities/ashmore-asset-management-indonesia', 'https://id.investing.com/equities/royalindo-investa-wijaya', 'https://id.investing.com/equities/perintis-triniti-properti-pt', 'https://id.investing.com/equities/diamond-food-indonesia', 'https://id.investing.com/equities/putra-rajawali-kencana-pt', 'https://id.investing.com/equities/pratama-widya-tbk-pt', 'https://id.investing.com/equities/lancartama-sejati-tbk', 'https://id.investing.com/equities/era-mandiri-cemerlang-tbk-pt', 'https://id.investing.com/equities/agro-yasa-lestari-pt-tbk', 'https://id.investing.com/equities/diamond-citra-propertindo-pt', 'https://id.investing.com/equities/andalan-sakti-primaindo-pt', 'https://id.investing.com/equities/batulicin-nusantara-maritim-tbk-pt', 'https://id.investing.com/equities/esta-multi-usaha-pt', 'https://id.investing.com/equities/makmur-berkah-amanda-pt', 'https://id.investing.com/equities/metro-healthcare-indonesia', 'https://id.investing.com/equities/saraswanti-anugerah-makmur-pt', 'https://id.investing.com/equities/cahaya-bintang-medan-tbk-pt', 'https://id.investing.com/equities/cipta-selera-murni-pt', 'https://id.investing.com/equities/aesler-grup-internasional-tbk-pt', 'https://id.investing.com/equities/sejahtera-bintang-abadi-textile-tbk', 'https://id.investing.com/equities/karya-bersama-anugerah-pt', 'https://id.investing.com/equities/bumi-benowo-sukses-sejahtera-pt', 'https://id.investing.com/equities/bhakti-multi-artha-pt', 'https://id.investing.com/equities/cashlez-worldwide-indonesia-tbk', 'https://id.investing.com/equities/indosterling-technomedia-tbk', 'https://id.investing.com/equities/megalestari-epack-sentosaraya-pt', 'https://id.investing.com/equities/pt-pradiksi-gunatama-tbk', 'https://id.investing.com/equities/pt-boston-furniture-ind-tbk', 'https://id.investing.com/equities/pt-pakuan-tbk', 'https://id.investing.com/equities/prima-globalindo-logistik-tbk', 'https://id.investing.com/equities/berlian-laju-tanker-tbk-pt', 'https://id.investing.com/equities/sunindo-adipersada-tbk-pt', 'https://id.investing.com/equities/sumber-global-energy-tbk-pt', 'https://id.investing.com/equities/transkon-jaya-pt', 'https://id.investing.com/equities/pinago-utama-tbk-pt', 'https://id.investing.com/equities/puri-global-sukses-tbk-pt', 'https://id.investing.com/equities/soho-global-health-tbk-pt', 'https://id.investing.com/equities/selaras-citra-nusantara-perkasa-tbk', 'https://id.investing.com/equities/bank-bisnis-internasional-tbk', 'https://id.investing.com/equities/kurniamitra-duta-sentosa-tbk', 'https://id.investing.com/equities/grand-house-mulia-pt', 'https://id.investing.com/equities/rockfields-property-indonesia-pt', 'https://id.investing.com/equities/planet-properindo-jaya-pt', 'https://id.investing.com/equities/morenzo-abadi-perkasa-tbk-pt', 'https://id.investing.com/equities/djasa-ubersakti-tbk', 'https://id.investing.com/equities/trimitra-prawara-goldland-tbk-pt', 'https://id.investing.com/equities/victoria-care-indonesia-tbk-pt', 'https://id.investing.com/equities/panca-mitra-multiperdana-tbk-pt', 'https://id.investing.com/equities/fap-agri-tbk-pt', 'https://id.investing.com/equities/bank-net-indonesia-syariah-tbk-pt', 'https://id.investing.com/equities/diagnos-laboratorium-utama-pt-tbk', 'https://id.investing.com/equities/widodo-makmur-unggas-tbk-pt', 'https://id.investing.com/equities/ulima-nitra-pt', 'https://id.investing.com/equities/berkah-beton-sadaya-tbk-pt', 'https://id.investing.com/equities/sunter-lakeside-hotel-tbk-pt', 'https://id.investing.com/equities/zyrexindo-mandiri-buana-pt-tbk', 'https://id.investing.com/equities/imago-mulia-persada-tbk-pt', 'https://id.investing.com/equities/fimperkasa-utama-tbk-pt', 'https://id.investing.com/equities/triputra-agro-persada-tbk-pt', 'https://id.investing.com/equities/nusa-palapa-gemilang-pt-tbk', 'https://id.investing.com/equities/lima-dua-lima-tiga-pt', 'https://id.investing.com/equities/harapan-duta-pertiwi-pt', 'https://id.investing.com/equities/triniti-dinamik', 'https://id.investing.com/equities/ladangbaja-murni', 'https://id.investing.com/equities/panca-anugrah-wisesa-tbk-pt', 'https://id.investing.com/equities/archi-indonesia-tbk-pt', 'https://id.investing.com/equities/bank-multiarta-sentosa-pt', 'https://id.investing.com/equities/era-graharealty-pt-tbk', 'https://id.investing.com/equities/bundamedik-tbk-pt', 'https://id.investing.com/equities/falmaco-nonwoven-industri-pt-tbk', 'https://id.investing.com/equities/pam-mineral-tbk-pt', 'https://id.investing.com/equities/trimegah-karya-pratama-tbk-pt', 'https://id.investing.com/equities/dci-indonesia-tbk-pt', 'https://id.investing.com/equities/bukalapak.com-pt', 'https://id.investing.com/equities/hasnur-internasional-shipping', 'https://id.investing.com/equities/bank-jtrust-indonesia-tbk-pt', 'https://id.investing.com/equities/solusi-sinergi-digital-tbk-pt', 'https://id.investing.com/equities/indo-oil-perkasa-pt', 'https://id.investing.com/equities/geoprima-solusi-tbk-pt', 'https://id.investing.com/equities/prima-andalan-mandiri-tbk-pt', 'https://id.investing.com/equities/kedoya-adyaraya-tbk-pt', 'https://id.investing.com/equities/global-sukses-solusi-tbk-pt', 'https://id.investing.com/equities/surya-biru-murni-acetylene-tbk-pt', 'https://id.investing.com/equities/cemindo-gemilang-tbk-pt', 'https://id.investing.com/equities/gts-internasional-tbk-pt', 'https://id.investing.com/equities/idea-indonesia-akademi-tbk-pt', 'https://id.investing.com/equities/formosa-ingredient-factory-pt-tbk', 'https://id.investing.com/equities/indointernet-tbk-pt', 'https://id.investing.com/equities/ace-oldfields-pt', 'https://id.investing.com/equities/damai-sejahtera-abadi-tbk-pt', 'https://id.investing.com/equities/dayamitra-telekomunikasi-pt', 'https://id.investing.com/equities/caturkarda-depo-bangunan-pt-tbk', 'https://id.investing.com/equities/perma-plasindo-tbk-pt', 'https://id.investing.com/equities/widodo-makmur-perkasa-pt', 'https://id.investing.com/equities/jaya-swarasa-agung-pt', 'https://id.investing.com/equities/wira-global-solusi-tbk-pt', 'https://id.investing.com/equities/cisarua-mountain-dairy-tbk-pt', 'https://id.investing.com/equities/rmk-energy-pt-tbk', 'https://id.investing.com/equities/obm-drilchem-pt', 'https://id.investing.com/equities/avia-avian-pt-tbk', 'https://id.investing.com/equities/indo-pureco-pratama-tbk-pt', 'https://id.investing.com/equities/wahana-inti-makmurtbk-pt', 'https://id.investing.com/equities/bintang-samudera-mandiri-lines', 'https://id.investing.com/equities/dharma-polimetal-tbk-pt', 'https://id.investing.com/equities/adaro-minerals-indonesia-tbk-pt', 'https://id.investing.com/equities/semacom-integrated-tbk-pt', 'https://id.investing.com/equities/autopedia-sukses-lestari-tbk-pt', 'https://id.investing.com/equities/net-visi-media-tbk-pt', 'https://id.investing.com/equities/mitra-angkasa-sejahtera-pt-tbk', 'https://id.investing.com/equities/champ-resto-indonesia-pt', 'https://id.investing.com/equities/nusatama-berkah-tbk-pt', 'https://id.investing.com/equities/organon-pharma-ord', 'https://id.investing.com/equities/adhi-commuter-properti-tbk-pt', 'https://id.investing.com/equities/sumber-mas-konstruksi-tbk-pt', 'https://id.investing.com/equities/nanotech-indonesia-global-tbk-pt', 'https://id.investing.com/equities/sumber-tani-agung-resources-tbk-pt', 'https://id.investing.com/equities/sepeda-bersama-indonesia-tbk-pt', 'https://id.investing.com/equities/wir-asia-tbk-pt', 'https://id.investing.com/equities/sigma-energy-compressindo-tbk-pt', 'https://id.investing.com/equities/goto-gojek-tokopedia-pt', 'https://id.investing.com/equities/teladan-prima-agro-pt-tbk', 'https://id.investing.com/equities/murni-sadar-tbk-pt', 'https://id.investing.com/equities/winner-nusantara-jaya-tbk-pt', 'https://id.investing.com/equities/indo-boga-sukses-tbk-pt', 'https://id.investing.com/equities/oscar-mitra-sukses-sejahtera-tbk-pt', 'https://id.investing.com/equities/cilacap-samudera-fishing-industry?cid=1192725', 'https://id.investing.com/equities/chemstar-indonesia-tbk-pt', 'https://id.investing.com/equities/arkora-hydro-tbk-ptt', 'https://id.investing.com/equities/cerestar-indonesia-tbk-pt', 'https://id.investing.com/equities/pt-dewi-shri-farmindo-tbk', 'https://id.investing.com/equities/tera-data-indonusa-tbk-pt', 'https://id.investing.com/equities/bangun-karya-perkasa-jaya-pt-tbk', 'https://id.investing.com/equities/habco-trans-maritima-tbk-pt', 'https://id.investing.com/equities/utama-radar-cahaya-tbk-pt', 'https://id.investing.com/equities/aman-agrindo-tbk-pt', 'https://id.investing.com/equities/agung-menjangan-mas-tbk-pt', 'https://id.investing.com/equities/jhonlin-agro-raya-pt-tbk', 'https://id.investing.com/equities/sari-kreasi-boga-pt-tbk', 'https://id.investing.com/equities/mora-telematika-indonesia-tbk-pt', 'https://id.investing.com/equities/kusuma-kemindo-sentosa-pt', 'https://id.investing.com/equities/pelayaran-nasional-ekalya', 'https://id.investing.com/equities/estee-gold-feet-pt-tbk', 'https://id.investing.com/equities/klinko-karya-imaji-pt-tbk', 'https://id.investing.com/equities/rohartindo-nusantara-luas-tbk-pt', 'https://id.investing.com/equities/toba-surimi-industries-tbk-pt', 'https://id.investing.com/equities/hetzer-medical-indonesia-tbk-pt', 'https://id.investing.com/equities/black-diamond-resources-tbk-pt', 'https://id.investing.com/equities/segar-kumala-indonesia-tbk-pt', 'https://id.investing.com/equities/famon-awal-bros-sedaya-tbk-pt', 'https://id.investing.com/equities/citra-borneo-utama-pt-tbk', 'https://id.investing.com/equities/pt-menthobi-karyatama-raya-tbk', 'https://id.investing.com/equities/jayamas-medica-industri-pt', 'https://id.investing.com/equities/pt-wulandari-bangun-laksana-tbk', 'https://id.investing.com/equities/pt-primadaya-plastisindo-tbk', 'https://id.investing.com/equities/puri-sentul-permai-tbk-pt', 'https://id.investing.com/equities/ketrosden-triasmitra-pt', 'https://id.investing.com/equities/bersama-zatta-jaya-tbk-pt', 'https://id.investing.com/equities/global-digital-niaga-tbk-pt', 'https://id.investing.com/equities/multi-medika-internasional-pt-tbk', 'https://id.investing.com/equities/techno9-indonesia-pt-tbk', 'https://id.investing.com/equities/saraswanti-indoland-dev-pt', 'https://id.investing.com/equities/personel-alih-daya-tbk-pt', 'https://id.investing.com/equities/isra-presisi-indonesia-pt-tbk', 'https://id.investing.com/equities/venteny-fortuna-international-pt', 'https://id.investing.com/equities/mitra-tirta-buwana-pt-tbk', 'https://id.investing.com/equities/data-sinergitama-jaya-tbk-pt', 'https://id.investing.com/equities/jobubu-jarum-minahasa-pt-tbk', 'https://id.investing.com/equities/pt-citra-buana-prasida-tbk', 'https://id.investing.com/equities/cakra-buana-resources-energi-pt-tbk', 'https://id.investing.com/equities/sunindo-pratama-pt-tbk', 'https://id.investing.com/equities/pt-hatten-bali-pt-tbk', 'https://id.investing.com/equities/lavender-bina-cendikia-pt-tbk', 'https://id.investing.com/equities/penta-valent-pt', 'https://id.investing.com/equities/pt-jasa-berdikari-logistics-tbk', 'https://id.investing.com/equities/wijaya-cahaya-timber-pt', 'https://id.investing.com/equities/aviana-sinar-abadi-pt-tbk', 'https://id.investing.com/equities/hassana-boga-sejahtera-pt-tbk', 'https://id.investing.com/equities/pelita-teknologi-global-pt-tbk', 'https://id.investing.com/equities/haloni-jane-pt-tbk', 'https://id.investing.com/equities/pt-solusi-kemasan-digital-tbk', 'https://id.investing.com/equities/vastland-indonesia-pt-tbk', 'https://id.investing.com/equities/hoffmen-cleanindo-pt-tbk', 'https://id.investing.com/equities/pt-pertamina-geothermal-energy', 'https://id.investing.com/equities/pt-lini-imaji-kreasi-ecosystem-tbk', 'https://id.investing.com/equities/berdikari-pondasi-perkasa', 'https://id.investing.com/equities/mitra-pack', 'https://id.investing.com/equities/pt-petrindo-jaya-kreasi-tbk', 'https://id.investing.com/equities/teknologi-karya-digital-nusa-pt-tbk', 'https://id.investing.com/equities/pt-saptausaha-gemilangindah-tbk', 'https://id.investing.com/equities/pt-nusantara-sawit-sejahtera-tbk', 'https://id.investing.com/equities/pt-hillcon-tbk', 'https://id.investing.com/equities/grahaprima-suksesmandiri-tbk-pt', 'https://id.investing.com/equities/arsy-buana-travelindo-tbk-pt', 'https://id.investing.com/equities/pt-multi-makmur-lemindo-tbk', 'https://id.investing.com/equities/pt-trimegah-bangun-persada-tbk', 'https://id.investing.com/equities/pt-era-digital-media-tbk', 'https://id.investing.com/equities/menn-teknologi-indonesia-tbk-pt', 'https://id.investing.com/equities/merdeka-battery-materials-pt', 'https://id.investing.com/equities/era-media-sejahtera-tbk-pt', 'https://id.investing.com/equities/informasi-teknologi-indonesia-tbk', 'https://id.investing.com/equities/mpx-logistics-international-tbk-pt', 'https://id.investing.com/equities/tripar-multivision-plus-tbk-pt', 'https://id.investing.com/equities/king-tire-indonesia-tbk-pt', 'https://id.investing.com/equities/sarana-mitra-luas-tbk-pt', 'https://id.investing.com/equities/maxindo-karya-anugerah', 'https://id.investing.com/equities/maxindo-karya-anugerah?cid=1203353', 'https://id.investing.com/equities/pt-vktr-teknologi-mobilitas', 'https://id.investing.com/equities/graha-mitra-asia-tbk-pt', 'https://id.investing.com/equities/amman-mineral-internasional-tbk-pt', 'https://id.investing.com/equities/carsurin-tbk-pt', 'https://id.investing.com/equities/graha-prima-mentari-pt-tbk', 'https://id.investing.com/equities/pt-widiant-jaya-krenindo-tbk', 'https://id.investing.com/equities/platinum-wahab-nusantara-tbk-pt', 'https://id.investing.com/equities/sinergi-inti-andalan-prima-tbk-pt', 'https://id.investing.com/equities/mandiri-herindo-adiperkasa-tbk-pt', 'https://id.investing.com/equities/pt-royaltama-mulia-kontraktorindo', 'https://id.investing.com/equities/nusantara-sejahtera-raya-tbk-pt', 'https://id.investing.com/equities/pt-itsec-asia-tbk', 'https://id.investing.com/equities/sinar-eka-selaras-pt', 'https://id.investing.com/equities/multi-garam-utama-tbk-pt', 'https://id.investing.com/equities/pt-ingria-pratama-capitalindo-tbk', 'https://id.investing.com/equities/minahasa-membangun-hebat-tbk-pt', 'https://id.investing.com/equities/paperocks-indonesia-tbk-pt', 'https://id.investing.com/equities/humpuss-maritim-internasional-tbk', 'https://id.investing.com/equities/lupromax-pelumas-indonesia-tbk-pt', 'https://id.investing.com/equities/mutuagung-lestari-tbk-pt', 'https://id.investing.com/equities/pt-multisarana-intan-eduka-tbk', 'https://id.investing.com/equities/charlie-hospital-semarang-pt', 'https://id.investing.com/equities/multitrend-indo-tbk-pt', 'https://id.investing.com/equities/anugerah-spareparts-sejahtera-pt', 'https://id.investing.com/equities/sumber-sinergi-makmur-pt-tbk', 'https://id.investing.com/equities/kokoh-exa-nusantara-tbk-pt', 'https://id.investing.com/equities/pulau-subur-tbk-pt', 'https://id.investing.com/equities/lovina-beach-brewery-tbk-pt', 'https://id.investing.com/equities/logisticsplus-international-tbk-pt', 'https://id.investing.com/equities/koka-indonesia-pt', 'https://id.investing.com/equities/barito-renewables-energy-pt-tbk', 'https://id.investing.com/equities/agro-bahari-nusantara-pt-tbk', 'https://id.investing.com/equities/ikapharmindo-putramas-pt', 'https://id.investing.com/equities/mastersystem-infotama-pt', 'https://id.investing.com/equities/kian-santang-muliatama-pt', 'https://id.investing.com/equities/janu-putra-sejahtera-tbk-pt', 'https://id.investing.com/equities/maja-agung-latexindo-pt-tbk', 'https://id.investing.com/equities/asri-karya-lestari-pt-tbk', 'https://id.investing.com/equities/citra-nusantara-gemilang-tbk-pt', 'https://id.investing.com/equities/adhi-kartiko-pratama-tbk-pt', 'https://id.investing.com/equities/sinergi-multi-lestarindo-pt-tbk', 'https://id.investing.com/equities/multi-spunindo-jaya-tbk-pt', 'https://id.investing.com/equities/manggung-polahraya-pt-tbk', 'https://id.investing.com/equities/samcro-hyosung-adilestari-pt-tbk', 'https://id.investing.com/equities/griptha-putra-persada-tbk-pt', 'https://id.investing.com/equities/sumber-mineral-global-abadi-tbk-pt', 'https://id.investing.com/equities/terang-dunia-internusa-pt', 'https://id.investing.com/equities/pt-topindo-solusi-komunika', 'https://id.investing.com/equities/mitra-pedagang-indonesia-pt-tbk', 'https://id.investing.com/equities/ancara-logistics-indonesia-pt-tbk', 'https://id.investing.com/equities/homeco-victoria-makmur-pt-tbk', 'https://id.investing.com/equities/pt-harta-djaya-karya-tbk', 'https://id.investing.com/equities/multikarya-asia-pasifik-raya-tbk-pt', 'https://id.investing.com/equities/ecocare-indo-pasifik-pt-tbk', 'https://id.investing.com/equities/bersama-mencapai-puncak-pt-tbk', 'https://id.investing.com/equities/satu-visi-putra-pt-tbk', 'https://id.investing.com/equities/dunia-virtual-online-tbk-pt', 'https://id.investing.com/equities/atlantis-subsea-indonesia-tbk-pt', 'https://id.investing.com/equities/multi-hanna-kreasindo-tbk-pt', 'https://id.investing.com/equities/remala-abadi-tbk-pt', 'https://id.investing.com/equities/xolare-rcr-energy-pt-tbk', 'https://id.investing.com/equities/benteng-api-technic-pt-tbk', 'https://id.investing.com/equities/soraya-berjaya-indonesia-tbk-pt', 'https://id.investing.com/equities/pt-cipta-perdana-lancar-tbk', 'https://id.investing.com/equities/pt-intra-golflink-resorts-tbk', 'https://id.investing.com/equities/gunanusa-eramandiri-tbk-pt', 'https://id.investing.com/equities/superior-prima-sukses-pt-tbk', 'https://id.investing.com/equities/pt-indo-american-seafoods-tbk', 'https://id.investing.com/equities/pt-ubc-medical-indonesia-tbk', 'https://id.investing.com/equities/global-sukses-digital-tbk-pt', 'https://id.investing.com/equities/pt-esta-indonesia-tbk', 'https://id.investing.com/equities/pt-master-print-tbk', 'https://id.investing.com/equities/verona-indah-pictures-pt-tbk', 'https://id.investing.com/equities/daaz-bara-lestari-tbk-pt', 'https://id.investing.com/equities/newport-marine-services-pt-tbk', 'https://id.investing.com/equities/adiwarna-anugerah-abadi-pt-tbk', 'https://id.investing.com/equities/adaro-andalan-indonesia', 'https://id.investing.com/equities/daya-intiguna-yasa-pt-tbk', 'https://id.investing.com/equities/kentanix-supra-international-tbk-pt', 'https://id.investing.com/equities/raharja-energi-cepu-tbk-pt', 'https://id.investing.com/equities/asuransi-digital-bersama-tbk-pt', 'https://id.investing.com/equities/hero-global-investment-tbk-pt', 'https://id.investing.com/equities/raja-roti-cemerlang-tbk-pt', 'https://id.investing.com/equities/brigit-biofarmaka-teknologi-tbk-pt', 'https://id.investing.com/equities/bangun-kosambi-sukses-pt-tbk', 'https://id.investing.com/equities/delta-giri-wacana-tbk-pt', 'https://id.investing.com/equities/jantra-grupo-indonesia-pt-tbk', 'https://id.investing.com/equities/sinar-terang-mandiri-pt-tbk', 'https://id.investing.com/equities/yupi-indo-jelly-gum-pt-tbk', 'https://id.investing.com/equities/fore-kopi-indonesia-pt-tbk', 'https://id.investing.com/equities/medela-potentia-tbk-pt', 'https://id.investing.com/equities/cipta-sarana-medika-tbk-pt']\n"
     ]
    }
   ],
   "source": [
    "# Define Chrome webdriver\n",
    "driver = webdriver.Chrome()\n",
    "\n",
    "# Forward the webdriver to the specified link\n",
    "url = 'https://id.investing.com/equities/indonesia'\n",
    "driver.get(url)\n",
    "\n",
    "# Settings\n",
    "driver.implicitly_wait(3)  # 3 second timeout on waiting an element to be found\n",
    "\n",
    "try:\n",
    "    table = driver.find_element(By.CLASS_NAME, 'datatable-v2_body__8TXQk')\n",
    "    company_elems = table.find_elements(By.TAG_NAME, 'a')\n",
    "    \n",
    "    urls = list()\n",
    "\n",
    "    for elem in company_elems:\n",
    "        urls.append(elem.get_attribute('href'))\n",
    "\n",
    "    print(urls)\n",
    "\n",
    "except Exception as e:\n",
    "    print(e)\n",
    "\n",
    "sleep(5)\n",
    "\n",
    "driver.quit()"
   ]
  },
  {
   "cell_type": "code",
   "execution_count": 5,
   "metadata": {},
   "outputs": [],
   "source": [
    "from selenium.webdriver.common.by import By\n",
    "from selenium import webdriver\n",
    "from time import sleep"
   ]
  },
  {
   "cell_type": "code",
   "execution_count": 6,
   "metadata": {},
   "outputs": [],
   "source": [
    "# Define Chrome webdriver\n",
    "driver = webdriver.Chrome()\n",
    "\n",
    "# Forward the webdriver to the specified link\n",
    "financial_data_url = (\n",
    "    'https://idx.co.id/id/data-pasar/laporan-statistik/digital-statistic/mon' +\n",
    "    'thly/financial-report-and-ratio-of-listed-companies/financial-data-and-' +\n",
    "    'ratio?filter=eyJ5ZWFyIjoiMjAyNCIsIm1vbnRoIjoiNCIsInF1YXJ0ZXIiOjAsInR5cG' +\n",
    "    'UiOiJtb250aGx5In0%3D'\n",
    ")\n",
    "driver.get(financial_data_url)\n",
    "\n",
    "sleep(5)\n",
    "\n",
    "driver.quit()"
   ]
  },
  {
   "cell_type": "markdown",
   "metadata": {},
   "source": [
    "# One that works"
   ]
  },
  {
   "cell_type": "markdown",
   "metadata": {},
   "source": [
    "## Dataset"
   ]
  },
  {
   "cell_type": "markdown",
   "metadata": {},
   "source": [
    "### Retrieve"
   ]
  },
  {
   "cell_type": "code",
   "execution_count": 1,
   "metadata": {},
   "outputs": [
    {
     "data": {
      "text/plain": [
       "('test.xlsx', <http.client.HTTPMessage at 0x161749c7250>)"
      ]
     },
     "execution_count": 1,
     "metadata": {},
     "output_type": "execute_result"
    }
   ],
   "source": [
    "import urllib\n",
    "\n",
    "\n",
    "url = 'https://idx.co.id/primary/DigitalStatistic/GetReportData?type=excel&periodType=monthly&periodYear=2024&periodMonth=4&cumulative=false&filecode=finDataRat&filename=Financial+Data+and+Ratio'\n",
    "\n",
    "# define new request headers\n",
    "missing_headers = {\n",
    "    \"Sec-Ch-Ua\": \"\\\"Google Chrome\\\";v=\\\"123\\\", \\\"Not:A-Brand\\\";v=\\\"8\\\", \\\"Chromium\\\";v=\\\"123\\\"\",\n",
    "    \"User-Agent\": \"Mozilla/5.0 (Windows NT 10.0; Win64; x64) AppleWebKit/537.36 (KHTML, like Gecko) Chrome/123.0.0.0 Safari/537.36\"\n",
    "}\n",
    "\n",
    "opener = urllib.request.build_opener()\n",
    "opener.addheaders = [('User-agent', 'Mozilla/5.0 (Windows NT 10.0; Win64; x64) AppleWebKit/537.36 (KHTML, like Gecko) Chrome/123.0.0.0 Safari/537.36'), (\"Sec-Ch-Ua\", \"\\\"Google Chrome\\\";v=\\\"123\\\", \\\"Not:A-Brand\\\";v=\\\"8\\\", \\\"Chromium\\\";v=\\\"123\\\"\")]\n",
    "urllib.request.install_opener(opener)\n",
    "\n",
    "# req = urllib.request.Request(url, headers=missing_headers) \n",
    "urllib.request.urlretrieve(url, 'test.xlsx')"
   ]
  },
  {
   "cell_type": "markdown",
   "metadata": {},
   "source": [
    "### Reading and Cleaning"
   ]
  },
  {
   "cell_type": "code",
   "execution_count": 5,
   "metadata": {},
   "outputs": [
    {
     "name": "stderr",
     "output_type": "stream",
     "text": [
      "e:\\Kuliah\\MBKM\\CV Advance With Unity\\Tugas\\AI Agent\\Project-AWU-AgentSaham\\.venv\\Lib\\site-packages\\openpyxl\\styles\\stylesheet.py:237: UserWarning: Workbook contains no default style, apply openpyxl's default\n",
      "  warn(\"Workbook contains no default style, apply openpyxl's default\")\n"
     ]
    },
    {
     "data": {
      "text/html": [
       "<div>\n",
       "<style scoped>\n",
       "    .dataframe tbody tr th:only-of-type {\n",
       "        vertical-align: middle;\n",
       "    }\n",
       "\n",
       "    .dataframe tbody tr th {\n",
       "        vertical-align: top;\n",
       "    }\n",
       "\n",
       "    .dataframe thead th {\n",
       "        text-align: right;\n",
       "    }\n",
       "</style>\n",
       "<table border=\"1\" class=\"dataframe\">\n",
       "  <thead>\n",
       "    <tr style=\"text-align: right;\">\n",
       "      <th></th>\n",
       "      <th>No.</th>\n",
       "      <th>Sector</th>\n",
       "      <th>Sub Industry Code</th>\n",
       "      <th>Sub Industry</th>\n",
       "      <th>Code</th>\n",
       "      <th>Stock Name</th>\n",
       "      <th>Sharia</th>\n",
       "      <th>FS Date</th>\n",
       "      <th>Fiscal Year End</th>\n",
       "      <th>Type of FS</th>\n",
       "      <th>...</th>\n",
       "      <th>Profit for the Period</th>\n",
       "      <th>Profit attr.to owner's</th>\n",
       "      <th>Trailing</th>\n",
       "      <th>Unnamed: 20</th>\n",
       "      <th>Unnamed: 21</th>\n",
       "      <th>Unnamed: 22</th>\n",
       "      <th>Unnamed: 23</th>\n",
       "      <th>Unnamed: 24</th>\n",
       "      <th>Unnamed: 25</th>\n",
       "      <th>Unnamed: 26</th>\n",
       "    </tr>\n",
       "  </thead>\n",
       "  <tbody>\n",
       "    <tr>\n",
       "      <th>926</th>\n",
       "      <td>926.0</td>\n",
       "      <td>Transportation &amp; Logistic</td>\n",
       "      <td>K211</td>\n",
       "      <td>Logistics &amp; Deliveries</td>\n",
       "      <td>TNCA</td>\n",
       "      <td>PT Trimuda Nuansa Citra Tbk.</td>\n",
       "      <td>S</td>\n",
       "      <td>12/31/2023</td>\n",
       "      <td>Dec</td>\n",
       "      <td>U</td>\n",
       "      <td>...</td>\n",
       "      <td>0.44</td>\n",
       "      <td>0.44</td>\n",
       "      <td>1.04</td>\n",
       "      <td>103.29</td>\n",
       "      <td>178.22</td>\n",
       "      <td>1.79</td>\n",
       "      <td>0.22</td>\n",
       "      <td>0.01</td>\n",
       "      <td>0.01</td>\n",
       "      <td>0.01</td>\n",
       "    </tr>\n",
       "    <tr>\n",
       "      <th>927</th>\n",
       "      <td>927.0</td>\n",
       "      <td>Transportation &amp; Logistic</td>\n",
       "      <td>K211</td>\n",
       "      <td>Logistics &amp; Deliveries</td>\n",
       "      <td>TRUK</td>\n",
       "      <td>PT Guna Timur Raya Tbk.</td>\n",
       "      <td>S</td>\n",
       "      <td>03/31/2024</td>\n",
       "      <td>Dec</td>\n",
       "      <td>U</td>\n",
       "      <td>...</td>\n",
       "      <td>-0.51</td>\n",
       "      <td>-0.51</td>\n",
       "      <td>-6.66</td>\n",
       "      <td>116.45</td>\n",
       "      <td>-13.8</td>\n",
       "      <td>0.79</td>\n",
       "      <td>0.34</td>\n",
       "      <td>-0.04</td>\n",
       "      <td>-0.06</td>\n",
       "      <td>-0.17</td>\n",
       "    </tr>\n",
       "    <tr>\n",
       "      <th>928</th>\n",
       "      <td>NaN</td>\n",
       "      <td>NaN</td>\n",
       "      <td>NaN</td>\n",
       "      <td>NaN</td>\n",
       "      <td>NaN</td>\n",
       "      <td>NaN</td>\n",
       "      <td>NaN</td>\n",
       "      <td>NaN</td>\n",
       "      <td>NaN</td>\n",
       "      <td>NaN</td>\n",
       "      <td>...</td>\n",
       "      <td>NaN</td>\n",
       "      <td>NaN</td>\n",
       "      <td>NaN</td>\n",
       "      <td>NaN</td>\n",
       "      <td>NaN</td>\n",
       "      <td>NaN</td>\n",
       "      <td>NaN</td>\n",
       "      <td>NaN</td>\n",
       "      <td>NaN</td>\n",
       "      <td>NaN</td>\n",
       "    </tr>\n",
       "    <tr>\n",
       "      <th>929</th>\n",
       "      <td>NaN</td>\n",
       "      <td>Market PER</td>\n",
       "      <td>12.67</td>\n",
       "      <td>NaN</td>\n",
       "      <td>NaN</td>\n",
       "      <td>NaN</td>\n",
       "      <td>NaN</td>\n",
       "      <td>NaN</td>\n",
       "      <td>NaN</td>\n",
       "      <td>NaN</td>\n",
       "      <td>...</td>\n",
       "      <td>-</td>\n",
       "      <td>-</td>\n",
       "      <td>-</td>\n",
       "      <td>-</td>\n",
       "      <td>-</td>\n",
       "      <td>-</td>\n",
       "      <td>-</td>\n",
       "      <td>-</td>\n",
       "      <td>-</td>\n",
       "      <td>-</td>\n",
       "    </tr>\n",
       "    <tr>\n",
       "      <th>930</th>\n",
       "      <td>NaN</td>\n",
       "      <td>Market PBV</td>\n",
       "      <td>2.19</td>\n",
       "      <td>NaN</td>\n",
       "      <td>NaN</td>\n",
       "      <td>NaN</td>\n",
       "      <td>NaN</td>\n",
       "      <td>NaN</td>\n",
       "      <td>NaN</td>\n",
       "      <td>NaN</td>\n",
       "      <td>...</td>\n",
       "      <td>-</td>\n",
       "      <td>-</td>\n",
       "      <td>-</td>\n",
       "      <td>-</td>\n",
       "      <td>-</td>\n",
       "      <td>-</td>\n",
       "      <td>-</td>\n",
       "      <td>-</td>\n",
       "      <td>-</td>\n",
       "      <td>-</td>\n",
       "    </tr>\n",
       "  </tbody>\n",
       "</table>\n",
       "<p>5 rows × 26 columns</p>\n",
       "</div>"
      ],
      "text/plain": [
       "       No.                     Sector Sub Industry Code  \\\n",
       "926  926.0  Transportation & Logistic              K211   \n",
       "927  927.0  Transportation & Logistic              K211   \n",
       "928    NaN                        NaN               NaN   \n",
       "929    NaN                 Market PER             12.67   \n",
       "930    NaN                 Market PBV              2.19   \n",
       "\n",
       "               Sub Industry  Code                    Stock Name Sharia  \\\n",
       "926  Logistics & Deliveries  TNCA  PT Trimuda Nuansa Citra Tbk.      S   \n",
       "927  Logistics & Deliveries  TRUK       PT Guna Timur Raya Tbk.      S   \n",
       "928                     NaN   NaN                           NaN    NaN   \n",
       "929                     NaN   NaN                           NaN    NaN   \n",
       "930                     NaN   NaN                           NaN    NaN   \n",
       "\n",
       "        FS Date Fiscal Year End Type of FS  ... Profit for the Period  \\\n",
       "926  12/31/2023             Dec          U  ...                  0.44   \n",
       "927  03/31/2024             Dec          U  ...                 -0.51   \n",
       "928         NaN             NaN        NaN  ...                   NaN   \n",
       "929         NaN             NaN        NaN  ...                     -   \n",
       "930         NaN             NaN        NaN  ...                     -   \n",
       "\n",
       "    Profit attr.to owner's Trailing Unnamed: 20 Unnamed: 21 Unnamed: 22  \\\n",
       "926                   0.44     1.04      103.29      178.22        1.79   \n",
       "927                  -0.51    -6.66      116.45       -13.8        0.79   \n",
       "928                    NaN      NaN         NaN         NaN         NaN   \n",
       "929                      -        -           -           -           -   \n",
       "930                      -        -           -           -           -   \n",
       "\n",
       "    Unnamed: 23 Unnamed: 24 Unnamed: 25 Unnamed: 26  \n",
       "926        0.22        0.01        0.01        0.01  \n",
       "927        0.34       -0.04       -0.06       -0.17  \n",
       "928         NaN         NaN         NaN         NaN  \n",
       "929           -           -           -           -  \n",
       "930           -           -           -           -  \n",
       "\n",
       "[5 rows x 26 columns]"
      ]
     },
     "execution_count": 5,
     "metadata": {},
     "output_type": "execute_result"
    }
   ],
   "source": [
    "import pandas as pd\n",
    "import numpy as np\n",
    "\n",
    "\n",
    "df = pd.read_excel(url, header=3, usecols='B:AA')\n",
    "df.tail()"
   ]
  },
  {
   "cell_type": "markdown",
   "metadata": {},
   "source": [
    "#### Columns Cleaning"
   ]
  },
  {
   "cell_type": "code",
   "execution_count": 6,
   "metadata": {},
   "outputs": [],
   "source": [
    "first_cols = df.columns\n",
    "sec_cols = df.iloc[0].values\n",
    "new_cols = list()\n",
    "\n",
    "for first, sec in zip(first_cols, sec_cols):\n",
    "    if isinstance(sec, str):\n",
    "        new_cols.append(sec)\n",
    "    else:\n",
    "        new_cols.append(first)\n",
    "\n",
    "df.columns = new_cols"
   ]
  },
  {
   "cell_type": "code",
   "execution_count": 7,
   "metadata": {},
   "outputs": [
    {
     "data": {
      "text/html": [
       "<div>\n",
       "<style scoped>\n",
       "    .dataframe tbody tr th:only-of-type {\n",
       "        vertical-align: middle;\n",
       "    }\n",
       "\n",
       "    .dataframe tbody tr th {\n",
       "        vertical-align: top;\n",
       "    }\n",
       "\n",
       "    .dataframe thead th {\n",
       "        text-align: right;\n",
       "    }\n",
       "</style>\n",
       "<table border=\"1\" class=\"dataframe\">\n",
       "  <thead>\n",
       "    <tr style=\"text-align: right;\">\n",
       "      <th></th>\n",
       "      <th>No.</th>\n",
       "      <th>Sector</th>\n",
       "      <th>Sub Industry Code</th>\n",
       "      <th>Sub Industry</th>\n",
       "      <th>Code</th>\n",
       "      <th>Stock Name</th>\n",
       "      <th>Sharia</th>\n",
       "      <th>FS Date</th>\n",
       "      <th>Fiscal Year End</th>\n",
       "      <th>Type of FS</th>\n",
       "      <th>...</th>\n",
       "      <th>Profit for the Period</th>\n",
       "      <th>Profit attr.to owner's</th>\n",
       "      <th>EPS, IDR</th>\n",
       "      <th>Book Value, IDR</th>\n",
       "      <th>P/E Ratio, x</th>\n",
       "      <th>Price to BV, x</th>\n",
       "      <th>D/E Ratio, x</th>\n",
       "      <th>ROA, %</th>\n",
       "      <th>ROE, %</th>\n",
       "      <th>NPM, %</th>\n",
       "    </tr>\n",
       "  </thead>\n",
       "  <tbody>\n",
       "    <tr>\n",
       "      <th>0</th>\n",
       "      <td>NaN</td>\n",
       "      <td>NaN</td>\n",
       "      <td>NaN</td>\n",
       "      <td>NaN</td>\n",
       "      <td>NaN</td>\n",
       "      <td>NaN</td>\n",
       "      <td>NaN</td>\n",
       "      <td>NaN</td>\n",
       "      <td>NaN</td>\n",
       "      <td>NaN</td>\n",
       "      <td>...</td>\n",
       "      <td>NaN</td>\n",
       "      <td>NaN</td>\n",
       "      <td>EPS, IDR</td>\n",
       "      <td>Book Value, IDR</td>\n",
       "      <td>P/E Ratio, x</td>\n",
       "      <td>Price to BV, x</td>\n",
       "      <td>D/E Ratio, x</td>\n",
       "      <td>ROA, %</td>\n",
       "      <td>ROE, %</td>\n",
       "      <td>NPM, %</td>\n",
       "    </tr>\n",
       "    <tr>\n",
       "      <th>1</th>\n",
       "      <td>1.0</td>\n",
       "      <td>Energy</td>\n",
       "      <td>A121</td>\n",
       "      <td>Coal Production</td>\n",
       "      <td>ABMM</td>\n",
       "      <td>ABM Investama Tbk</td>\n",
       "      <td>-</td>\n",
       "      <td>12/31/2023</td>\n",
       "      <td>Dec</td>\n",
       "      <td>U</td>\n",
       "      <td>...</td>\n",
       "      <td>4872.92</td>\n",
       "      <td>4461.88</td>\n",
       "      <td>1620.64</td>\n",
       "      <td>4255.86</td>\n",
       "      <td>2.39</td>\n",
       "      <td>0.91</td>\n",
       "      <td>1.84</td>\n",
       "      <td>0.13</td>\n",
       "      <td>0.38</td>\n",
       "      <td>0.19</td>\n",
       "    </tr>\n",
       "    <tr>\n",
       "      <th>2</th>\n",
       "      <td>2.0</td>\n",
       "      <td>Energy</td>\n",
       "      <td>A121</td>\n",
       "      <td>Coal Production</td>\n",
       "      <td>ADMR</td>\n",
       "      <td>Adaro Minerals Indonesia Tbk</td>\n",
       "      <td>S</td>\n",
       "      <td>03/31/2024</td>\n",
       "      <td>Dec</td>\n",
       "      <td>U</td>\n",
       "      <td>...</td>\n",
       "      <td>1835.51</td>\n",
       "      <td>1842.01</td>\n",
       "      <td>180.57</td>\n",
       "      <td>447.6</td>\n",
       "      <td>7.45</td>\n",
       "      <td>3</td>\n",
       "      <td>0.55</td>\n",
       "      <td>0.26</td>\n",
       "      <td>0.4</td>\n",
       "      <td>1.69</td>\n",
       "    </tr>\n",
       "    <tr>\n",
       "      <th>3</th>\n",
       "      <td>3.0</td>\n",
       "      <td>Energy</td>\n",
       "      <td>A121</td>\n",
       "      <td>Coal Production</td>\n",
       "      <td>ADRO</td>\n",
       "      <td>Alamtri Resources Indonesia Tbk</td>\n",
       "      <td>S</td>\n",
       "      <td>12/31/2023</td>\n",
       "      <td>Dec</td>\n",
       "      <td>A</td>\n",
       "      <td>...</td>\n",
       "      <td>28637.46</td>\n",
       "      <td>25342.15</td>\n",
       "      <td>763.59</td>\n",
       "      <td>3576.06</td>\n",
       "      <td>3.55</td>\n",
       "      <td>0.76</td>\n",
       "      <td>0.41</td>\n",
       "      <td>0.15</td>\n",
       "      <td>0.21</td>\n",
       "      <td>0.24</td>\n",
       "    </tr>\n",
       "    <tr>\n",
       "      <th>4</th>\n",
       "      <td>4.0</td>\n",
       "      <td>Energy</td>\n",
       "      <td>A121</td>\n",
       "      <td>Coal Production</td>\n",
       "      <td>AIMS</td>\n",
       "      <td>PT Artha Mahiya Investama Tbk</td>\n",
       "      <td>S</td>\n",
       "      <td>12/31/2023</td>\n",
       "      <td>Dec</td>\n",
       "      <td>A</td>\n",
       "      <td>...</td>\n",
       "      <td>-13.76</td>\n",
       "      <td>-13.76</td>\n",
       "      <td>-62.54</td>\n",
       "      <td>8.27</td>\n",
       "      <td>-9.75</td>\n",
       "      <td>73.72</td>\n",
       "      <td>1.14</td>\n",
       "      <td>-3.54</td>\n",
       "      <td>-7.56</td>\n",
       "      <td>-1.41</td>\n",
       "    </tr>\n",
       "    <tr>\n",
       "      <th>...</th>\n",
       "      <td>...</td>\n",
       "      <td>...</td>\n",
       "      <td>...</td>\n",
       "      <td>...</td>\n",
       "      <td>...</td>\n",
       "      <td>...</td>\n",
       "      <td>...</td>\n",
       "      <td>...</td>\n",
       "      <td>...</td>\n",
       "      <td>...</td>\n",
       "      <td>...</td>\n",
       "      <td>...</td>\n",
       "      <td>...</td>\n",
       "      <td>...</td>\n",
       "      <td>...</td>\n",
       "      <td>...</td>\n",
       "      <td>...</td>\n",
       "      <td>...</td>\n",
       "      <td>...</td>\n",
       "      <td>...</td>\n",
       "      <td>...</td>\n",
       "    </tr>\n",
       "    <tr>\n",
       "      <th>926</th>\n",
       "      <td>926.0</td>\n",
       "      <td>Transportation &amp; Logistic</td>\n",
       "      <td>K211</td>\n",
       "      <td>Logistics &amp; Deliveries</td>\n",
       "      <td>TNCA</td>\n",
       "      <td>PT Trimuda Nuansa Citra Tbk.</td>\n",
       "      <td>S</td>\n",
       "      <td>12/31/2023</td>\n",
       "      <td>Dec</td>\n",
       "      <td>U</td>\n",
       "      <td>...</td>\n",
       "      <td>0.44</td>\n",
       "      <td>0.44</td>\n",
       "      <td>1.04</td>\n",
       "      <td>103.29</td>\n",
       "      <td>178.22</td>\n",
       "      <td>1.79</td>\n",
       "      <td>0.22</td>\n",
       "      <td>0.01</td>\n",
       "      <td>0.01</td>\n",
       "      <td>0.01</td>\n",
       "    </tr>\n",
       "    <tr>\n",
       "      <th>927</th>\n",
       "      <td>927.0</td>\n",
       "      <td>Transportation &amp; Logistic</td>\n",
       "      <td>K211</td>\n",
       "      <td>Logistics &amp; Deliveries</td>\n",
       "      <td>TRUK</td>\n",
       "      <td>PT Guna Timur Raya Tbk.</td>\n",
       "      <td>S</td>\n",
       "      <td>03/31/2024</td>\n",
       "      <td>Dec</td>\n",
       "      <td>U</td>\n",
       "      <td>...</td>\n",
       "      <td>-0.51</td>\n",
       "      <td>-0.51</td>\n",
       "      <td>-6.66</td>\n",
       "      <td>116.45</td>\n",
       "      <td>-13.8</td>\n",
       "      <td>0.79</td>\n",
       "      <td>0.34</td>\n",
       "      <td>-0.04</td>\n",
       "      <td>-0.06</td>\n",
       "      <td>-0.17</td>\n",
       "    </tr>\n",
       "    <tr>\n",
       "      <th>928</th>\n",
       "      <td>NaN</td>\n",
       "      <td>NaN</td>\n",
       "      <td>NaN</td>\n",
       "      <td>NaN</td>\n",
       "      <td>NaN</td>\n",
       "      <td>NaN</td>\n",
       "      <td>NaN</td>\n",
       "      <td>NaN</td>\n",
       "      <td>NaN</td>\n",
       "      <td>NaN</td>\n",
       "      <td>...</td>\n",
       "      <td>NaN</td>\n",
       "      <td>NaN</td>\n",
       "      <td>NaN</td>\n",
       "      <td>NaN</td>\n",
       "      <td>NaN</td>\n",
       "      <td>NaN</td>\n",
       "      <td>NaN</td>\n",
       "      <td>NaN</td>\n",
       "      <td>NaN</td>\n",
       "      <td>NaN</td>\n",
       "    </tr>\n",
       "    <tr>\n",
       "      <th>929</th>\n",
       "      <td>NaN</td>\n",
       "      <td>Market PER</td>\n",
       "      <td>12.67</td>\n",
       "      <td>NaN</td>\n",
       "      <td>NaN</td>\n",
       "      <td>NaN</td>\n",
       "      <td>NaN</td>\n",
       "      <td>NaN</td>\n",
       "      <td>NaN</td>\n",
       "      <td>NaN</td>\n",
       "      <td>...</td>\n",
       "      <td>-</td>\n",
       "      <td>-</td>\n",
       "      <td>-</td>\n",
       "      <td>-</td>\n",
       "      <td>-</td>\n",
       "      <td>-</td>\n",
       "      <td>-</td>\n",
       "      <td>-</td>\n",
       "      <td>-</td>\n",
       "      <td>-</td>\n",
       "    </tr>\n",
       "    <tr>\n",
       "      <th>930</th>\n",
       "      <td>NaN</td>\n",
       "      <td>Market PBV</td>\n",
       "      <td>2.19</td>\n",
       "      <td>NaN</td>\n",
       "      <td>NaN</td>\n",
       "      <td>NaN</td>\n",
       "      <td>NaN</td>\n",
       "      <td>NaN</td>\n",
       "      <td>NaN</td>\n",
       "      <td>NaN</td>\n",
       "      <td>...</td>\n",
       "      <td>-</td>\n",
       "      <td>-</td>\n",
       "      <td>-</td>\n",
       "      <td>-</td>\n",
       "      <td>-</td>\n",
       "      <td>-</td>\n",
       "      <td>-</td>\n",
       "      <td>-</td>\n",
       "      <td>-</td>\n",
       "      <td>-</td>\n",
       "    </tr>\n",
       "  </tbody>\n",
       "</table>\n",
       "<p>931 rows × 26 columns</p>\n",
       "</div>"
      ],
      "text/plain": [
       "       No.                     Sector Sub Industry Code  \\\n",
       "0      NaN                        NaN               NaN   \n",
       "1      1.0                     Energy              A121   \n",
       "2      2.0                     Energy              A121   \n",
       "3      3.0                     Energy              A121   \n",
       "4      4.0                     Energy              A121   \n",
       "..     ...                        ...               ...   \n",
       "926  926.0  Transportation & Logistic              K211   \n",
       "927  927.0  Transportation & Logistic              K211   \n",
       "928    NaN                        NaN               NaN   \n",
       "929    NaN                 Market PER             12.67   \n",
       "930    NaN                 Market PBV              2.19   \n",
       "\n",
       "               Sub Industry  Code                       Stock Name Sharia  \\\n",
       "0                       NaN   NaN                              NaN    NaN   \n",
       "1           Coal Production  ABMM                ABM Investama Tbk      -   \n",
       "2           Coal Production  ADMR     Adaro Minerals Indonesia Tbk      S   \n",
       "3           Coal Production  ADRO  Alamtri Resources Indonesia Tbk      S   \n",
       "4           Coal Production  AIMS    PT Artha Mahiya Investama Tbk      S   \n",
       "..                      ...   ...                              ...    ...   \n",
       "926  Logistics & Deliveries  TNCA     PT Trimuda Nuansa Citra Tbk.      S   \n",
       "927  Logistics & Deliveries  TRUK          PT Guna Timur Raya Tbk.      S   \n",
       "928                     NaN   NaN                              NaN    NaN   \n",
       "929                     NaN   NaN                              NaN    NaN   \n",
       "930                     NaN   NaN                              NaN    NaN   \n",
       "\n",
       "        FS Date Fiscal Year End Type of FS  ... Profit for the Period  \\\n",
       "0           NaN             NaN        NaN  ...                   NaN   \n",
       "1    12/31/2023             Dec          U  ...               4872.92   \n",
       "2    03/31/2024             Dec          U  ...               1835.51   \n",
       "3    12/31/2023             Dec          A  ...              28637.46   \n",
       "4    12/31/2023             Dec          A  ...                -13.76   \n",
       "..          ...             ...        ...  ...                   ...   \n",
       "926  12/31/2023             Dec          U  ...                  0.44   \n",
       "927  03/31/2024             Dec          U  ...                 -0.51   \n",
       "928         NaN             NaN        NaN  ...                   NaN   \n",
       "929         NaN             NaN        NaN  ...                     -   \n",
       "930         NaN             NaN        NaN  ...                     -   \n",
       "\n",
       "    Profit attr.to owner's  EPS, IDR  Book Value, IDR  P/E Ratio, x  \\\n",
       "0                      NaN  EPS, IDR  Book Value, IDR  P/E Ratio, x   \n",
       "1                  4461.88   1620.64          4255.86          2.39   \n",
       "2                  1842.01    180.57            447.6          7.45   \n",
       "3                 25342.15    763.59          3576.06          3.55   \n",
       "4                   -13.76    -62.54             8.27         -9.75   \n",
       "..                     ...       ...              ...           ...   \n",
       "926                   0.44      1.04           103.29        178.22   \n",
       "927                  -0.51     -6.66           116.45         -13.8   \n",
       "928                    NaN       NaN              NaN           NaN   \n",
       "929                      -         -                -             -   \n",
       "930                      -         -                -             -   \n",
       "\n",
       "     Price to BV, x  D/E Ratio, x  ROA, %  ROE, %  NPM, %  \n",
       "0    Price to BV, x  D/E Ratio, x  ROA, %  ROE, %  NPM, %  \n",
       "1              0.91          1.84    0.13    0.38    0.19  \n",
       "2                 3          0.55    0.26     0.4    1.69  \n",
       "3              0.76          0.41    0.15    0.21    0.24  \n",
       "4             73.72          1.14   -3.54   -7.56   -1.41  \n",
       "..              ...           ...     ...     ...     ...  \n",
       "926            1.79          0.22    0.01    0.01    0.01  \n",
       "927            0.79          0.34   -0.04   -0.06   -0.17  \n",
       "928             NaN           NaN     NaN     NaN     NaN  \n",
       "929               -             -       -       -       -  \n",
       "930               -             -       -       -       -  \n",
       "\n",
       "[931 rows x 26 columns]"
      ]
     },
     "execution_count": 7,
     "metadata": {},
     "output_type": "execute_result"
    }
   ],
   "source": [
    "df"
   ]
  },
  {
   "cell_type": "code",
   "execution_count": 8,
   "metadata": {},
   "outputs": [
    {
     "data": {
      "text/html": [
       "<div>\n",
       "<style scoped>\n",
       "    .dataframe tbody tr th:only-of-type {\n",
       "        vertical-align: middle;\n",
       "    }\n",
       "\n",
       "    .dataframe tbody tr th {\n",
       "        vertical-align: top;\n",
       "    }\n",
       "\n",
       "    .dataframe thead th {\n",
       "        text-align: right;\n",
       "    }\n",
       "</style>\n",
       "<table border=\"1\" class=\"dataframe\">\n",
       "  <thead>\n",
       "    <tr style=\"text-align: right;\">\n",
       "      <th></th>\n",
       "      <th>No.</th>\n",
       "      <th>Sector</th>\n",
       "      <th>Sub Industry Code</th>\n",
       "      <th>Sub Industry</th>\n",
       "      <th>Code</th>\n",
       "      <th>Stock Name</th>\n",
       "      <th>Sharia</th>\n",
       "      <th>FS Date</th>\n",
       "      <th>Fiscal Year End</th>\n",
       "      <th>Type of FS</th>\n",
       "      <th>...</th>\n",
       "      <th>Profit for the Period</th>\n",
       "      <th>Profit attr.to owner's</th>\n",
       "      <th>EPS, IDR</th>\n",
       "      <th>Book Value, IDR</th>\n",
       "      <th>P/E Ratio, x</th>\n",
       "      <th>Price to BV, x</th>\n",
       "      <th>D/E Ratio, x</th>\n",
       "      <th>ROA, %</th>\n",
       "      <th>ROE, %</th>\n",
       "      <th>NPM, %</th>\n",
       "    </tr>\n",
       "  </thead>\n",
       "  <tbody>\n",
       "    <tr>\n",
       "      <th>0</th>\n",
       "      <td>1.0</td>\n",
       "      <td>Energy</td>\n",
       "      <td>A121</td>\n",
       "      <td>Coal Production</td>\n",
       "      <td>ABMM</td>\n",
       "      <td>ABM Investama Tbk</td>\n",
       "      <td>-</td>\n",
       "      <td>12/31/2023</td>\n",
       "      <td>Dec</td>\n",
       "      <td>U</td>\n",
       "      <td>...</td>\n",
       "      <td>4872.92</td>\n",
       "      <td>4461.88</td>\n",
       "      <td>1620.64</td>\n",
       "      <td>4255.86</td>\n",
       "      <td>2.39</td>\n",
       "      <td>0.91</td>\n",
       "      <td>1.84</td>\n",
       "      <td>0.13</td>\n",
       "      <td>0.38</td>\n",
       "      <td>0.19</td>\n",
       "    </tr>\n",
       "    <tr>\n",
       "      <th>1</th>\n",
       "      <td>2.0</td>\n",
       "      <td>Energy</td>\n",
       "      <td>A121</td>\n",
       "      <td>Coal Production</td>\n",
       "      <td>ADMR</td>\n",
       "      <td>Adaro Minerals Indonesia Tbk</td>\n",
       "      <td>S</td>\n",
       "      <td>03/31/2024</td>\n",
       "      <td>Dec</td>\n",
       "      <td>U</td>\n",
       "      <td>...</td>\n",
       "      <td>1835.51</td>\n",
       "      <td>1842.01</td>\n",
       "      <td>180.57</td>\n",
       "      <td>447.6</td>\n",
       "      <td>7.45</td>\n",
       "      <td>3</td>\n",
       "      <td>0.55</td>\n",
       "      <td>0.26</td>\n",
       "      <td>0.4</td>\n",
       "      <td>1.69</td>\n",
       "    </tr>\n",
       "    <tr>\n",
       "      <th>2</th>\n",
       "      <td>3.0</td>\n",
       "      <td>Energy</td>\n",
       "      <td>A121</td>\n",
       "      <td>Coal Production</td>\n",
       "      <td>ADRO</td>\n",
       "      <td>Alamtri Resources Indonesia Tbk</td>\n",
       "      <td>S</td>\n",
       "      <td>12/31/2023</td>\n",
       "      <td>Dec</td>\n",
       "      <td>A</td>\n",
       "      <td>...</td>\n",
       "      <td>28637.46</td>\n",
       "      <td>25342.15</td>\n",
       "      <td>763.59</td>\n",
       "      <td>3576.06</td>\n",
       "      <td>3.55</td>\n",
       "      <td>0.76</td>\n",
       "      <td>0.41</td>\n",
       "      <td>0.15</td>\n",
       "      <td>0.21</td>\n",
       "      <td>0.24</td>\n",
       "    </tr>\n",
       "    <tr>\n",
       "      <th>3</th>\n",
       "      <td>4.0</td>\n",
       "      <td>Energy</td>\n",
       "      <td>A121</td>\n",
       "      <td>Coal Production</td>\n",
       "      <td>AIMS</td>\n",
       "      <td>PT Artha Mahiya Investama Tbk</td>\n",
       "      <td>S</td>\n",
       "      <td>12/31/2023</td>\n",
       "      <td>Dec</td>\n",
       "      <td>A</td>\n",
       "      <td>...</td>\n",
       "      <td>-13.76</td>\n",
       "      <td>-13.76</td>\n",
       "      <td>-62.54</td>\n",
       "      <td>8.27</td>\n",
       "      <td>-9.75</td>\n",
       "      <td>73.72</td>\n",
       "      <td>1.14</td>\n",
       "      <td>-3.54</td>\n",
       "      <td>-7.56</td>\n",
       "      <td>-1.41</td>\n",
       "    </tr>\n",
       "    <tr>\n",
       "      <th>4</th>\n",
       "      <td>5.0</td>\n",
       "      <td>Energy</td>\n",
       "      <td>A112</td>\n",
       "      <td>Oil &amp; Gas Storage &amp; Distribution</td>\n",
       "      <td>AKRA</td>\n",
       "      <td>AKR Corporindo Tbk.</td>\n",
       "      <td>S</td>\n",
       "      <td>03/31/2024</td>\n",
       "      <td>Dec</td>\n",
       "      <td>U</td>\n",
       "      <td>...</td>\n",
       "      <td>653.37</td>\n",
       "      <td>595.46</td>\n",
       "      <td>137.92</td>\n",
       "      <td>733.5</td>\n",
       "      <td>12.14</td>\n",
       "      <td>2.28</td>\n",
       "      <td>1.07</td>\n",
       "      <td>0.09</td>\n",
       "      <td>0.19</td>\n",
       "      <td>0.28</td>\n",
       "    </tr>\n",
       "    <tr>\n",
       "      <th>...</th>\n",
       "      <td>...</td>\n",
       "      <td>...</td>\n",
       "      <td>...</td>\n",
       "      <td>...</td>\n",
       "      <td>...</td>\n",
       "      <td>...</td>\n",
       "      <td>...</td>\n",
       "      <td>...</td>\n",
       "      <td>...</td>\n",
       "      <td>...</td>\n",
       "      <td>...</td>\n",
       "      <td>...</td>\n",
       "      <td>...</td>\n",
       "      <td>...</td>\n",
       "      <td>...</td>\n",
       "      <td>...</td>\n",
       "      <td>...</td>\n",
       "      <td>...</td>\n",
       "      <td>...</td>\n",
       "      <td>...</td>\n",
       "      <td>...</td>\n",
       "    </tr>\n",
       "    <tr>\n",
       "      <th>925</th>\n",
       "      <td>926.0</td>\n",
       "      <td>Transportation &amp; Logistic</td>\n",
       "      <td>K211</td>\n",
       "      <td>Logistics &amp; Deliveries</td>\n",
       "      <td>TNCA</td>\n",
       "      <td>PT Trimuda Nuansa Citra Tbk.</td>\n",
       "      <td>S</td>\n",
       "      <td>12/31/2023</td>\n",
       "      <td>Dec</td>\n",
       "      <td>U</td>\n",
       "      <td>...</td>\n",
       "      <td>0.44</td>\n",
       "      <td>0.44</td>\n",
       "      <td>1.04</td>\n",
       "      <td>103.29</td>\n",
       "      <td>178.22</td>\n",
       "      <td>1.79</td>\n",
       "      <td>0.22</td>\n",
       "      <td>0.01</td>\n",
       "      <td>0.01</td>\n",
       "      <td>0.01</td>\n",
       "    </tr>\n",
       "    <tr>\n",
       "      <th>926</th>\n",
       "      <td>927.0</td>\n",
       "      <td>Transportation &amp; Logistic</td>\n",
       "      <td>K211</td>\n",
       "      <td>Logistics &amp; Deliveries</td>\n",
       "      <td>TRUK</td>\n",
       "      <td>PT Guna Timur Raya Tbk.</td>\n",
       "      <td>S</td>\n",
       "      <td>03/31/2024</td>\n",
       "      <td>Dec</td>\n",
       "      <td>U</td>\n",
       "      <td>...</td>\n",
       "      <td>-0.51</td>\n",
       "      <td>-0.51</td>\n",
       "      <td>-6.66</td>\n",
       "      <td>116.45</td>\n",
       "      <td>-13.8</td>\n",
       "      <td>0.79</td>\n",
       "      <td>0.34</td>\n",
       "      <td>-0.04</td>\n",
       "      <td>-0.06</td>\n",
       "      <td>-0.17</td>\n",
       "    </tr>\n",
       "    <tr>\n",
       "      <th>927</th>\n",
       "      <td>NaN</td>\n",
       "      <td>NaN</td>\n",
       "      <td>NaN</td>\n",
       "      <td>NaN</td>\n",
       "      <td>NaN</td>\n",
       "      <td>NaN</td>\n",
       "      <td>NaN</td>\n",
       "      <td>NaN</td>\n",
       "      <td>NaN</td>\n",
       "      <td>NaN</td>\n",
       "      <td>...</td>\n",
       "      <td>NaN</td>\n",
       "      <td>NaN</td>\n",
       "      <td>NaN</td>\n",
       "      <td>NaN</td>\n",
       "      <td>NaN</td>\n",
       "      <td>NaN</td>\n",
       "      <td>NaN</td>\n",
       "      <td>NaN</td>\n",
       "      <td>NaN</td>\n",
       "      <td>NaN</td>\n",
       "    </tr>\n",
       "    <tr>\n",
       "      <th>928</th>\n",
       "      <td>NaN</td>\n",
       "      <td>Market PER</td>\n",
       "      <td>12.67</td>\n",
       "      <td>NaN</td>\n",
       "      <td>NaN</td>\n",
       "      <td>NaN</td>\n",
       "      <td>NaN</td>\n",
       "      <td>NaN</td>\n",
       "      <td>NaN</td>\n",
       "      <td>NaN</td>\n",
       "      <td>...</td>\n",
       "      <td>-</td>\n",
       "      <td>-</td>\n",
       "      <td>-</td>\n",
       "      <td>-</td>\n",
       "      <td>-</td>\n",
       "      <td>-</td>\n",
       "      <td>-</td>\n",
       "      <td>-</td>\n",
       "      <td>-</td>\n",
       "      <td>-</td>\n",
       "    </tr>\n",
       "    <tr>\n",
       "      <th>929</th>\n",
       "      <td>NaN</td>\n",
       "      <td>Market PBV</td>\n",
       "      <td>2.19</td>\n",
       "      <td>NaN</td>\n",
       "      <td>NaN</td>\n",
       "      <td>NaN</td>\n",
       "      <td>NaN</td>\n",
       "      <td>NaN</td>\n",
       "      <td>NaN</td>\n",
       "      <td>NaN</td>\n",
       "      <td>...</td>\n",
       "      <td>-</td>\n",
       "      <td>-</td>\n",
       "      <td>-</td>\n",
       "      <td>-</td>\n",
       "      <td>-</td>\n",
       "      <td>-</td>\n",
       "      <td>-</td>\n",
       "      <td>-</td>\n",
       "      <td>-</td>\n",
       "      <td>-</td>\n",
       "    </tr>\n",
       "  </tbody>\n",
       "</table>\n",
       "<p>930 rows × 26 columns</p>\n",
       "</div>"
      ],
      "text/plain": [
       "       No.                     Sector Sub Industry Code  \\\n",
       "0      1.0                     Energy              A121   \n",
       "1      2.0                     Energy              A121   \n",
       "2      3.0                     Energy              A121   \n",
       "3      4.0                     Energy              A121   \n",
       "4      5.0                     Energy              A112   \n",
       "..     ...                        ...               ...   \n",
       "925  926.0  Transportation & Logistic              K211   \n",
       "926  927.0  Transportation & Logistic              K211   \n",
       "927    NaN                        NaN               NaN   \n",
       "928    NaN                 Market PER             12.67   \n",
       "929    NaN                 Market PBV              2.19   \n",
       "\n",
       "                         Sub Industry  Code                       Stock Name  \\\n",
       "0                     Coal Production  ABMM                ABM Investama Tbk   \n",
       "1                     Coal Production  ADMR     Adaro Minerals Indonesia Tbk   \n",
       "2                     Coal Production  ADRO  Alamtri Resources Indonesia Tbk   \n",
       "3                     Coal Production  AIMS    PT Artha Mahiya Investama Tbk   \n",
       "4    Oil & Gas Storage & Distribution  AKRA              AKR Corporindo Tbk.   \n",
       "..                                ...   ...                              ...   \n",
       "925            Logistics & Deliveries  TNCA     PT Trimuda Nuansa Citra Tbk.   \n",
       "926            Logistics & Deliveries  TRUK          PT Guna Timur Raya Tbk.   \n",
       "927                               NaN   NaN                              NaN   \n",
       "928                               NaN   NaN                              NaN   \n",
       "929                               NaN   NaN                              NaN   \n",
       "\n",
       "    Sharia     FS Date Fiscal Year End Type of FS  ... Profit for the Period  \\\n",
       "0        -  12/31/2023             Dec          U  ...               4872.92   \n",
       "1        S  03/31/2024             Dec          U  ...               1835.51   \n",
       "2        S  12/31/2023             Dec          A  ...              28637.46   \n",
       "3        S  12/31/2023             Dec          A  ...                -13.76   \n",
       "4        S  03/31/2024             Dec          U  ...                653.37   \n",
       "..     ...         ...             ...        ...  ...                   ...   \n",
       "925      S  12/31/2023             Dec          U  ...                  0.44   \n",
       "926      S  03/31/2024             Dec          U  ...                 -0.51   \n",
       "927    NaN         NaN             NaN        NaN  ...                   NaN   \n",
       "928    NaN         NaN             NaN        NaN  ...                     -   \n",
       "929    NaN         NaN             NaN        NaN  ...                     -   \n",
       "\n",
       "    Profit attr.to owner's EPS, IDR Book Value, IDR P/E Ratio, x  \\\n",
       "0                  4461.88  1620.64         4255.86         2.39   \n",
       "1                  1842.01   180.57           447.6         7.45   \n",
       "2                 25342.15   763.59         3576.06         3.55   \n",
       "3                   -13.76   -62.54            8.27        -9.75   \n",
       "4                   595.46   137.92           733.5        12.14   \n",
       "..                     ...      ...             ...          ...   \n",
       "925                   0.44     1.04          103.29       178.22   \n",
       "926                  -0.51    -6.66          116.45        -13.8   \n",
       "927                    NaN      NaN             NaN          NaN   \n",
       "928                      -        -               -            -   \n",
       "929                      -        -               -            -   \n",
       "\n",
       "    Price to BV, x D/E Ratio, x ROA, % ROE, % NPM, %  \n",
       "0             0.91         1.84   0.13   0.38   0.19  \n",
       "1                3         0.55   0.26    0.4   1.69  \n",
       "2             0.76         0.41   0.15   0.21   0.24  \n",
       "3            73.72         1.14  -3.54  -7.56  -1.41  \n",
       "4             2.28         1.07   0.09   0.19   0.28  \n",
       "..             ...          ...    ...    ...    ...  \n",
       "925           1.79         0.22   0.01   0.01   0.01  \n",
       "926           0.79         0.34  -0.04  -0.06  -0.17  \n",
       "927            NaN          NaN    NaN    NaN    NaN  \n",
       "928              -            -      -      -      -  \n",
       "929              -            -      -      -      -  \n",
       "\n",
       "[930 rows x 26 columns]"
      ]
     },
     "execution_count": 8,
     "metadata": {},
     "output_type": "execute_result"
    }
   ],
   "source": [
    "df.drop(0).reset_index(drop=True)"
   ]
  },
  {
   "cell_type": "markdown",
   "metadata": {},
   "source": [
    "# One that works too"
   ]
  },
  {
   "cell_type": "code",
   "execution_count": null,
   "metadata": {},
   "outputs": [
    {
     "data": {
      "application/vnd.jupyter.widget-view+json": {
       "model_id": "ee313c23fa424f7da9a202a11357cb0f",
       "version_major": 2,
       "version_minor": 0
      },
      "text/plain": [
       "  0%|          | 0/180 [00:00<?, ?it/s]"
      ]
     },
     "metadata": {},
     "output_type": "display_data"
    },
    {
     "data": {
      "application/vnd.jupyter.widget-view+json": {
       "model_id": "ef0baa668a224258b1da082b33219506",
       "version_major": 2,
       "version_minor": 0
      },
      "text/plain": [
       "  0%|          | 0/17 [00:00<?, ?it/s]"
      ]
     },
     "metadata": {},
     "output_type": "display_data"
    },
    {
     "data": {
      "application/vnd.jupyter.widget-view+json": {
       "model_id": "42323e985dc74a1f868943b44de3ad03",
       "version_major": 2,
       "version_minor": 0
      },
      "text/plain": [
       "  0%|          | 0/20 [00:00<?, ?it/s]"
      ]
     },
     "metadata": {},
     "output_type": "display_data"
    },
    {
     "data": {
      "application/vnd.jupyter.widget-view+json": {
       "model_id": "599efc4a2ea841aba37810e9b3029f15",
       "version_major": 2,
       "version_minor": 0
      },
      "text/plain": [
       "  0%|          | 0/20 [00:00<?, ?it/s]"
      ]
     },
     "metadata": {},
     "output_type": "display_data"
    },
    {
     "data": {
      "application/vnd.jupyter.widget-view+json": {
       "model_id": "19142ed49b27457fba7d2ff9d1e938cc",
       "version_major": 2,
       "version_minor": 0
      },
      "text/plain": [
       "  0%|          | 0/20 [00:00<?, ?it/s]"
      ]
     },
     "metadata": {},
     "output_type": "display_data"
    },
    {
     "data": {
      "application/vnd.jupyter.widget-view+json": {
       "model_id": "335f749a12f94e8e8b2c0ebe012e72b7",
       "version_major": 2,
       "version_minor": 0
      },
      "text/plain": [
       "  0%|          | 0/20 [00:00<?, ?it/s]"
      ]
     },
     "metadata": {},
     "output_type": "display_data"
    },
    {
     "data": {
      "application/vnd.jupyter.widget-view+json": {
       "model_id": "e66c23bba4734513a35116df3ae4f0a8",
       "version_major": 2,
       "version_minor": 0
      },
      "text/plain": [
       "  0%|          | 0/20 [00:00<?, ?it/s]"
      ]
     },
     "metadata": {},
     "output_type": "display_data"
    },
    {
     "data": {
      "application/vnd.jupyter.widget-view+json": {
       "model_id": "976c632f49aa482cb7a76fee7a559e3f",
       "version_major": 2,
       "version_minor": 0
      },
      "text/plain": [
       "  0%|          | 0/20 [00:00<?, ?it/s]"
      ]
     },
     "metadata": {},
     "output_type": "display_data"
    },
    {
     "data": {
      "application/vnd.jupyter.widget-view+json": {
       "model_id": "0839581cd25b493abb3db8b11e6cd289",
       "version_major": 2,
       "version_minor": 0
      },
      "text/plain": [
       "  0%|          | 0/13 [00:00<?, ?it/s]"
      ]
     },
     "metadata": {},
     "output_type": "display_data"
    },
    {
     "data": {
      "application/vnd.jupyter.widget-view+json": {
       "model_id": "8f8d1af93248443e984d22176de26ef3",
       "version_major": 2,
       "version_minor": 0
      },
      "text/plain": [
       "  0%|          | 0/16 [00:00<?, ?it/s]"
      ]
     },
     "metadata": {},
     "output_type": "display_data"
    },
    {
     "data": {
      "application/vnd.jupyter.widget-view+json": {
       "model_id": "1a5a37319080413c88685374f9f6ee8f",
       "version_major": 2,
       "version_minor": 0
      },
      "text/plain": [
       "  0%|          | 0/20 [00:00<?, ?it/s]"
      ]
     },
     "metadata": {},
     "output_type": "display_data"
    },
    {
     "data": {
      "application/vnd.jupyter.widget-view+json": {
       "model_id": "e39607d6be5d4158bee6678d1e96a349",
       "version_major": 2,
       "version_minor": 0
      },
      "text/plain": [
       "  0%|          | 0/20 [00:00<?, ?it/s]"
      ]
     },
     "metadata": {},
     "output_type": "display_data"
    },
    {
     "data": {
      "application/vnd.jupyter.widget-view+json": {
       "model_id": "050f090d1c524df186a63807a8096874",
       "version_major": 2,
       "version_minor": 0
      },
      "text/plain": [
       "  0%|          | 0/20 [00:00<?, ?it/s]"
      ]
     },
     "metadata": {},
     "output_type": "display_data"
    },
    {
     "data": {
      "application/vnd.jupyter.widget-view+json": {
       "model_id": "fa2096fe5cc0488db265c0202f9ef76c",
       "version_major": 2,
       "version_minor": 0
      },
      "text/plain": [
       "  0%|          | 0/20 [00:00<?, ?it/s]"
      ]
     },
     "metadata": {},
     "output_type": "display_data"
    },
    {
     "data": {
      "application/vnd.jupyter.widget-view+json": {
       "model_id": "c2547221b6714247b03f0cc1d3602088",
       "version_major": 2,
       "version_minor": 0
      },
      "text/plain": [
       "  0%|          | 0/20 [00:00<?, ?it/s]"
      ]
     },
     "metadata": {},
     "output_type": "display_data"
    },
    {
     "data": {
      "application/vnd.jupyter.widget-view+json": {
       "model_id": "9bc60827bae74aa7bfdf65a62ed9d110",
       "version_major": 2,
       "version_minor": 0
      },
      "text/plain": [
       "  0%|          | 0/20 [00:00<?, ?it/s]"
      ]
     },
     "metadata": {},
     "output_type": "display_data"
    },
    {
     "data": {
      "application/vnd.jupyter.widget-view+json": {
       "model_id": "3a581a405f714d8e81917fd04c111516",
       "version_major": 2,
       "version_minor": 0
      },
      "text/plain": [
       "  0%|          | 0/20 [00:00<?, ?it/s]"
      ]
     },
     "metadata": {},
     "output_type": "display_data"
    },
    {
     "data": {
      "application/vnd.jupyter.widget-view+json": {
       "model_id": "3b54f0ff360e4970bbb49e52997e6440",
       "version_major": 2,
       "version_minor": 0
      },
      "text/plain": [
       "  0%|          | 0/20 [00:00<?, ?it/s]"
      ]
     },
     "metadata": {},
     "output_type": "display_data"
    },
    {
     "data": {
      "application/vnd.jupyter.widget-view+json": {
       "model_id": "c988918f29294bda92bb7d2b40b65b6a",
       "version_major": 2,
       "version_minor": 0
      },
      "text/plain": [
       "  0%|          | 0/20 [00:00<?, ?it/s]"
      ]
     },
     "metadata": {},
     "output_type": "display_data"
    },
    {
     "data": {
      "application/vnd.jupyter.widget-view+json": {
       "model_id": "e713494c078746d280cf2a865dd312ae",
       "version_major": 2,
       "version_minor": 0
      },
      "text/plain": [
       "  0%|          | 0/20 [00:00<?, ?it/s]"
      ]
     },
     "metadata": {},
     "output_type": "display_data"
    },
    {
     "data": {
      "application/vnd.jupyter.widget-view+json": {
       "model_id": "aafc0c97da6c454590a97af2e6282f1b",
       "version_major": 2,
       "version_minor": 0
      },
      "text/plain": [
       "  0%|          | 0/20 [00:00<?, ?it/s]"
      ]
     },
     "metadata": {},
     "output_type": "display_data"
    },
    {
     "data": {
      "application/vnd.jupyter.widget-view+json": {
       "model_id": "399f95e18b6e493baeeed36c6079b87c",
       "version_major": 2,
       "version_minor": 0
      },
      "text/plain": [
       "  0%|          | 0/20 [00:00<?, ?it/s]"
      ]
     },
     "metadata": {},
     "output_type": "display_data"
    },
    {
     "data": {
      "application/vnd.jupyter.widget-view+json": {
       "model_id": "7ef02ba55ffb4357af7564091865fed8",
       "version_major": 2,
       "version_minor": 0
      },
      "text/plain": [
       "  0%|          | 0/4 [00:00<?, ?it/s]"
      ]
     },
     "metadata": {},
     "output_type": "display_data"
    },
    {
     "data": {
      "application/vnd.jupyter.widget-view+json": {
       "model_id": "c0501bb7f2d84a3590f95a1ac1254019",
       "version_major": 2,
       "version_minor": 0
      },
      "text/plain": [
       "  0%|          | 0/20 [00:00<?, ?it/s]"
      ]
     },
     "metadata": {},
     "output_type": "display_data"
    },
    {
     "data": {
      "application/vnd.jupyter.widget-view+json": {
       "model_id": "ced6758fbb774dc8afa41e51114632d0",
       "version_major": 2,
       "version_minor": 0
      },
      "text/plain": [
       "  0%|          | 0/20 [00:00<?, ?it/s]"
      ]
     },
     "metadata": {},
     "output_type": "display_data"
    },
    {
     "data": {
      "application/vnd.jupyter.widget-view+json": {
       "model_id": "a5935d56ee2b4c6fb0064d8566e86c19",
       "version_major": 2,
       "version_minor": 0
      },
      "text/plain": [
       "  0%|          | 0/20 [00:00<?, ?it/s]"
      ]
     },
     "metadata": {},
     "output_type": "display_data"
    },
    {
     "data": {
      "application/vnd.jupyter.widget-view+json": {
       "model_id": "21c44a0fb3b748378e3231d8117e6ea4",
       "version_major": 2,
       "version_minor": 0
      },
      "text/plain": [
       "  0%|          | 0/20 [00:00<?, ?it/s]"
      ]
     },
     "metadata": {},
     "output_type": "display_data"
    },
    {
     "data": {
      "application/vnd.jupyter.widget-view+json": {
       "model_id": "9ad070fe3b904ebbab2fe3f41f6d7c9a",
       "version_major": 2,
       "version_minor": 0
      },
      "text/plain": [
       "  0%|          | 0/20 [00:00<?, ?it/s]"
      ]
     },
     "metadata": {},
     "output_type": "display_data"
    },
    {
     "data": {
      "application/vnd.jupyter.widget-view+json": {
       "model_id": "bd409f4e0b3c4060932ffe9b7eb0d1fe",
       "version_major": 2,
       "version_minor": 0
      },
      "text/plain": [
       "  0%|          | 0/20 [00:00<?, ?it/s]"
      ]
     },
     "metadata": {},
     "output_type": "display_data"
    },
    {
     "data": {
      "application/vnd.jupyter.widget-view+json": {
       "model_id": "3f3451c159344a51bb6d68911d6f1af5",
       "version_major": 2,
       "version_minor": 0
      },
      "text/plain": [
       "  0%|          | 0/15 [00:00<?, ?it/s]"
      ]
     },
     "metadata": {},
     "output_type": "display_data"
    },
    {
     "data": {
      "application/vnd.jupyter.widget-view+json": {
       "model_id": "f40bdaa55967409f8a986e8d106ce1f8",
       "version_major": 2,
       "version_minor": 0
      },
      "text/plain": [
       "  0%|          | 0/20 [00:00<?, ?it/s]"
      ]
     },
     "metadata": {},
     "output_type": "display_data"
    },
    {
     "data": {
      "application/vnd.jupyter.widget-view+json": {
       "model_id": "9c2c9995f8a8461bb7cc18673f0de232",
       "version_major": 2,
       "version_minor": 0
      },
      "text/plain": [
       "  0%|          | 0/20 [00:00<?, ?it/s]"
      ]
     },
     "metadata": {},
     "output_type": "display_data"
    },
    {
     "data": {
      "application/vnd.jupyter.widget-view+json": {
       "model_id": "09e594f12c5f421780149717ed2c6e8d",
       "version_major": 2,
       "version_minor": 0
      },
      "text/plain": [
       "  0%|          | 0/20 [00:00<?, ?it/s]"
      ]
     },
     "metadata": {},
     "output_type": "display_data"
    },
    {
     "data": {
      "application/vnd.jupyter.widget-view+json": {
       "model_id": "b08c264762e24026bd56ccb7c8605c2d",
       "version_major": 2,
       "version_minor": 0
      },
      "text/plain": [
       "  0%|          | 0/12 [00:00<?, ?it/s]"
      ]
     },
     "metadata": {},
     "output_type": "display_data"
    },
    {
     "data": {
      "application/vnd.jupyter.widget-view+json": {
       "model_id": "b9caacecaea04f18b9ee79d3bedae9e1",
       "version_major": 2,
       "version_minor": 0
      },
      "text/plain": [
       "  0%|          | 0/20 [00:00<?, ?it/s]"
      ]
     },
     "metadata": {},
     "output_type": "display_data"
    },
    {
     "data": {
      "application/vnd.jupyter.widget-view+json": {
       "model_id": "01efcd1f6ae04be987ff64246d369c54",
       "version_major": 2,
       "version_minor": 0
      },
      "text/plain": [
       "  0%|          | 0/20 [00:00<?, ?it/s]"
      ]
     },
     "metadata": {},
     "output_type": "display_data"
    },
    {
     "data": {
      "application/vnd.jupyter.widget-view+json": {
       "model_id": "abcb3adffb2f4edaa4bfce42263ca2e6",
       "version_major": 2,
       "version_minor": 0
      },
      "text/plain": [
       "  0%|          | 0/13 [00:00<?, ?it/s]"
      ]
     },
     "metadata": {},
     "output_type": "display_data"
    },
    {
     "data": {
      "application/vnd.jupyter.widget-view+json": {
       "model_id": "a9cd7ea0309a42c8b8a7245875497d36",
       "version_major": 2,
       "version_minor": 0
      },
      "text/plain": [
       "  0%|          | 0/17 [00:00<?, ?it/s]"
      ]
     },
     "metadata": {},
     "output_type": "display_data"
    },
    {
     "data": {
      "application/vnd.jupyter.widget-view+json": {
       "model_id": "042092180d6f447db837768dfac6531b",
       "version_major": 2,
       "version_minor": 0
      },
      "text/plain": [
       "  0%|          | 0/20 [00:00<?, ?it/s]"
      ]
     },
     "metadata": {},
     "output_type": "display_data"
    },
    {
     "data": {
      "application/vnd.jupyter.widget-view+json": {
       "model_id": "d0922d20366f41b8a283902474bea0a1",
       "version_major": 2,
       "version_minor": 0
      },
      "text/plain": [
       "  0%|          | 0/20 [00:00<?, ?it/s]"
      ]
     },
     "metadata": {},
     "output_type": "display_data"
    },
    {
     "data": {
      "application/vnd.jupyter.widget-view+json": {
       "model_id": "35aa35cc2b61419f998b9ad5ec398b05",
       "version_major": 2,
       "version_minor": 0
      },
      "text/plain": [
       "  0%|          | 0/19 [00:00<?, ?it/s]"
      ]
     },
     "metadata": {},
     "output_type": "display_data"
    },
    {
     "data": {
      "application/vnd.jupyter.widget-view+json": {
       "model_id": "98f357528deb4080961e9fc0c0d367aa",
       "version_major": 2,
       "version_minor": 0
      },
      "text/plain": [
       "  0%|          | 0/20 [00:00<?, ?it/s]"
      ]
     },
     "metadata": {},
     "output_type": "display_data"
    },
    {
     "data": {
      "application/vnd.jupyter.widget-view+json": {
       "model_id": "f92d7bea0f3649ad97bf348dd7555808",
       "version_major": 2,
       "version_minor": 0
      },
      "text/plain": [
       "  0%|          | 0/20 [00:00<?, ?it/s]"
      ]
     },
     "metadata": {},
     "output_type": "display_data"
    },
    {
     "data": {
      "application/vnd.jupyter.widget-view+json": {
       "model_id": "43a32a8090074d389836e8065b63112b",
       "version_major": 2,
       "version_minor": 0
      },
      "text/plain": [
       "  0%|          | 0/16 [00:00<?, ?it/s]"
      ]
     },
     "metadata": {},
     "output_type": "display_data"
    },
    {
     "data": {
      "application/vnd.jupyter.widget-view+json": {
       "model_id": "127b107f886b49beb1e3582f66153e76",
       "version_major": 2,
       "version_minor": 0
      },
      "text/plain": [
       "  0%|          | 0/15 [00:00<?, ?it/s]"
      ]
     },
     "metadata": {},
     "output_type": "display_data"
    },
    {
     "data": {
      "application/vnd.jupyter.widget-view+json": {
       "model_id": "2f8936e49e1d4888bb23fbc5853c8d72",
       "version_major": 2,
       "version_minor": 0
      },
      "text/plain": [
       "  0%|          | 0/20 [00:00<?, ?it/s]"
      ]
     },
     "metadata": {},
     "output_type": "display_data"
    },
    {
     "data": {
      "application/vnd.jupyter.widget-view+json": {
       "model_id": "1d944caec18a4abe96e8af4ef7d6b412",
       "version_major": 2,
       "version_minor": 0
      },
      "text/plain": [
       "  0%|          | 0/20 [00:00<?, ?it/s]"
      ]
     },
     "metadata": {},
     "output_type": "display_data"
    },
    {
     "data": {
      "application/vnd.jupyter.widget-view+json": {
       "model_id": "8d4afc3fda054e78b3a89453d1eb0d49",
       "version_major": 2,
       "version_minor": 0
      },
      "text/plain": [
       "  0%|          | 0/20 [00:00<?, ?it/s]"
      ]
     },
     "metadata": {},
     "output_type": "display_data"
    },
    {
     "data": {
      "application/vnd.jupyter.widget-view+json": {
       "model_id": "7be5db0c49ee4cec86e345374b8530b3",
       "version_major": 2,
       "version_minor": 0
      },
      "text/plain": [
       "  0%|          | 0/20 [00:00<?, ?it/s]"
      ]
     },
     "metadata": {},
     "output_type": "display_data"
    },
    {
     "data": {
      "application/vnd.jupyter.widget-view+json": {
       "model_id": "639c3c21d4df48c2a373dfa6ac3080ae",
       "version_major": 2,
       "version_minor": 0
      },
      "text/plain": [
       "  0%|          | 0/20 [00:00<?, ?it/s]"
      ]
     },
     "metadata": {},
     "output_type": "display_data"
    },
    {
     "data": {
      "application/vnd.jupyter.widget-view+json": {
       "model_id": "789477021eeb437bab53e80bb2994931",
       "version_major": 2,
       "version_minor": 0
      },
      "text/plain": [
       "  0%|          | 0/11 [00:00<?, ?it/s]"
      ]
     },
     "metadata": {},
     "output_type": "display_data"
    },
    {
     "data": {
      "application/vnd.jupyter.widget-view+json": {
       "model_id": "57e8b0023b9f4e569696eb17a0ee412e",
       "version_major": 2,
       "version_minor": 0
      },
      "text/plain": [
       "  0%|          | 0/20 [00:00<?, ?it/s]"
      ]
     },
     "metadata": {},
     "output_type": "display_data"
    },
    {
     "data": {
      "application/vnd.jupyter.widget-view+json": {
       "model_id": "82f30df288784d2691ba999e71f57a5f",
       "version_major": 2,
       "version_minor": 0
      },
      "text/plain": [
       "  0%|          | 0/20 [00:00<?, ?it/s]"
      ]
     },
     "metadata": {},
     "output_type": "display_data"
    },
    {
     "data": {
      "application/vnd.jupyter.widget-view+json": {
       "model_id": "1d66cb52ec5642509bd54e2baea2c81b",
       "version_major": 2,
       "version_minor": 0
      },
      "text/plain": [
       "  0%|          | 0/20 [00:00<?, ?it/s]"
      ]
     },
     "metadata": {},
     "output_type": "display_data"
    },
    {
     "data": {
      "application/vnd.jupyter.widget-view+json": {
       "model_id": "c21be5feeee644f6841fe08a53f6fec5",
       "version_major": 2,
       "version_minor": 0
      },
      "text/plain": [
       "  0%|          | 0/20 [00:00<?, ?it/s]"
      ]
     },
     "metadata": {},
     "output_type": "display_data"
    },
    {
     "data": {
      "application/vnd.jupyter.widget-view+json": {
       "model_id": "3a1b8d8526b9455badb7fe33884da653",
       "version_major": 2,
       "version_minor": 0
      },
      "text/plain": [
       "  0%|          | 0/20 [00:00<?, ?it/s]"
      ]
     },
     "metadata": {},
     "output_type": "display_data"
    },
    {
     "data": {
      "application/vnd.jupyter.widget-view+json": {
       "model_id": "3b8141e109b646938ca1d5df69795b29",
       "version_major": 2,
       "version_minor": 0
      },
      "text/plain": [
       "  0%|          | 0/20 [00:00<?, ?it/s]"
      ]
     },
     "metadata": {},
     "output_type": "display_data"
    },
    {
     "data": {
      "application/vnd.jupyter.widget-view+json": {
       "model_id": "81c6a266a06d462584ea439a8361b540",
       "version_major": 2,
       "version_minor": 0
      },
      "text/plain": [
       "  0%|          | 0/20 [00:00<?, ?it/s]"
      ]
     },
     "metadata": {},
     "output_type": "display_data"
    },
    {
     "data": {
      "application/vnd.jupyter.widget-view+json": {
       "model_id": "3d4ad41a3cf941889a500b10e1967255",
       "version_major": 2,
       "version_minor": 0
      },
      "text/plain": [
       "  0%|          | 0/20 [00:00<?, ?it/s]"
      ]
     },
     "metadata": {},
     "output_type": "display_data"
    },
    {
     "data": {
      "application/vnd.jupyter.widget-view+json": {
       "model_id": "fc4582745cf140fc92d6f086f63d800e",
       "version_major": 2,
       "version_minor": 0
      },
      "text/plain": [
       "  0%|          | 0/20 [00:00<?, ?it/s]"
      ]
     },
     "metadata": {},
     "output_type": "display_data"
    },
    {
     "data": {
      "application/vnd.jupyter.widget-view+json": {
       "model_id": "7ce36f9200a048f3af96ea9c6ab0beeb",
       "version_major": 2,
       "version_minor": 0
      },
      "text/plain": [
       "  0%|          | 0/20 [00:00<?, ?it/s]"
      ]
     },
     "metadata": {},
     "output_type": "display_data"
    },
    {
     "data": {
      "application/vnd.jupyter.widget-view+json": {
       "model_id": "691327fb44a74539b079e90263804c61",
       "version_major": 2,
       "version_minor": 0
      },
      "text/plain": [
       "  0%|          | 0/20 [00:00<?, ?it/s]"
      ]
     },
     "metadata": {},
     "output_type": "display_data"
    },
    {
     "data": {
      "application/vnd.jupyter.widget-view+json": {
       "model_id": "eb1368aff451472cacf3c691a5f1ce5e",
       "version_major": 2,
       "version_minor": 0
      },
      "text/plain": [
       "  0%|          | 0/20 [00:00<?, ?it/s]"
      ]
     },
     "metadata": {},
     "output_type": "display_data"
    },
    {
     "data": {
      "application/vnd.jupyter.widget-view+json": {
       "model_id": "7e28bf6ef692487eb1b87b7bff9b831c",
       "version_major": 2,
       "version_minor": 0
      },
      "text/plain": [
       "  0%|          | 0/20 [00:00<?, ?it/s]"
      ]
     },
     "metadata": {},
     "output_type": "display_data"
    },
    {
     "data": {
      "application/vnd.jupyter.widget-view+json": {
       "model_id": "4ebaa429244944e5a76838b29312b4ca",
       "version_major": 2,
       "version_minor": 0
      },
      "text/plain": [
       "  0%|          | 0/12 [00:00<?, ?it/s]"
      ]
     },
     "metadata": {},
     "output_type": "display_data"
    },
    {
     "data": {
      "application/vnd.jupyter.widget-view+json": {
       "model_id": "bace19ab92a644228e5c96207e062b52",
       "version_major": 2,
       "version_minor": 0
      },
      "text/plain": [
       "  0%|          | 0/16 [00:00<?, ?it/s]"
      ]
     },
     "metadata": {},
     "output_type": "display_data"
    },
    {
     "data": {
      "application/vnd.jupyter.widget-view+json": {
       "model_id": "580b56badd6e49b49b1400f455af927d",
       "version_major": 2,
       "version_minor": 0
      },
      "text/plain": [
       "  0%|          | 0/20 [00:00<?, ?it/s]"
      ]
     },
     "metadata": {},
     "output_type": "display_data"
    },
    {
     "data": {
      "application/vnd.jupyter.widget-view+json": {
       "model_id": "0b9a6671b9ee4c8796de95eda8235eee",
       "version_major": 2,
       "version_minor": 0
      },
      "text/plain": [
       "  0%|          | 0/20 [00:00<?, ?it/s]"
      ]
     },
     "metadata": {},
     "output_type": "display_data"
    },
    {
     "data": {
      "application/vnd.jupyter.widget-view+json": {
       "model_id": "b4c5caef614045c582db81514581fa2a",
       "version_major": 2,
       "version_minor": 0
      },
      "text/plain": [
       "  0%|          | 0/20 [00:00<?, ?it/s]"
      ]
     },
     "metadata": {},
     "output_type": "display_data"
    },
    {
     "data": {
      "application/vnd.jupyter.widget-view+json": {
       "model_id": "f5bde240c6a04709a8af376f9fd22e2b",
       "version_major": 2,
       "version_minor": 0
      },
      "text/plain": [
       "  0%|          | 0/20 [00:00<?, ?it/s]"
      ]
     },
     "metadata": {},
     "output_type": "display_data"
    },
    {
     "data": {
      "application/vnd.jupyter.widget-view+json": {
       "model_id": "c31d3a8ef922442cacb13869e20795f8",
       "version_major": 2,
       "version_minor": 0
      },
      "text/plain": [
       "  0%|          | 0/20 [00:00<?, ?it/s]"
      ]
     },
     "metadata": {},
     "output_type": "display_data"
    },
    {
     "data": {
      "application/vnd.jupyter.widget-view+json": {
       "model_id": "6cb8abec4c8e4ec88c4d956ce692d98a",
       "version_major": 2,
       "version_minor": 0
      },
      "text/plain": [
       "  0%|          | 0/11 [00:00<?, ?it/s]"
      ]
     },
     "metadata": {},
     "output_type": "display_data"
    },
    {
     "data": {
      "application/vnd.jupyter.widget-view+json": {
       "model_id": "2e99e669832b4e979f1bf1aa40b3521d",
       "version_major": 2,
       "version_minor": 0
      },
      "text/plain": [
       "  0%|          | 0/18 [00:00<?, ?it/s]"
      ]
     },
     "metadata": {},
     "output_type": "display_data"
    },
    {
     "data": {
      "application/vnd.jupyter.widget-view+json": {
       "model_id": "5685723c5d194d84b58663a11a8f1f34",
       "version_major": 2,
       "version_minor": 0
      },
      "text/plain": [
       "  0%|          | 0/20 [00:00<?, ?it/s]"
      ]
     },
     "metadata": {},
     "output_type": "display_data"
    },
    {
     "data": {
      "application/vnd.jupyter.widget-view+json": {
       "model_id": "3317464fdf6a48ec815a52ed81a34145",
       "version_major": 2,
       "version_minor": 0
      },
      "text/plain": [
       "  0%|          | 0/20 [00:00<?, ?it/s]"
      ]
     },
     "metadata": {},
     "output_type": "display_data"
    },
    {
     "data": {
      "application/vnd.jupyter.widget-view+json": {
       "model_id": "2a6597558b7645d9ae9e88d404180d0b",
       "version_major": 2,
       "version_minor": 0
      },
      "text/plain": [
       "  0%|          | 0/20 [00:00<?, ?it/s]"
      ]
     },
     "metadata": {},
     "output_type": "display_data"
    },
    {
     "data": {
      "application/vnd.jupyter.widget-view+json": {
       "model_id": "22d7a2e60aac4e7d93e0633ab4065444",
       "version_major": 2,
       "version_minor": 0
      },
      "text/plain": [
       "  0%|          | 0/20 [00:00<?, ?it/s]"
      ]
     },
     "metadata": {},
     "output_type": "display_data"
    },
    {
     "data": {
      "application/vnd.jupyter.widget-view+json": {
       "model_id": "dd968b1ff9204fb18d26a3116f69486d",
       "version_major": 2,
       "version_minor": 0
      },
      "text/plain": [
       "  0%|          | 0/20 [00:00<?, ?it/s]"
      ]
     },
     "metadata": {},
     "output_type": "display_data"
    },
    {
     "data": {
      "application/vnd.jupyter.widget-view+json": {
       "model_id": "1c038287258f4f948c860539241cf581",
       "version_major": 2,
       "version_minor": 0
      },
      "text/plain": [
       "  0%|          | 0/18 [00:00<?, ?it/s]"
      ]
     },
     "metadata": {},
     "output_type": "display_data"
    },
    {
     "data": {
      "application/vnd.jupyter.widget-view+json": {
       "model_id": "3cd28b636987476f89f03ff37b5a5cfd",
       "version_major": 2,
       "version_minor": 0
      },
      "text/plain": [
       "  0%|          | 0/20 [00:00<?, ?it/s]"
      ]
     },
     "metadata": {},
     "output_type": "display_data"
    },
    {
     "data": {
      "application/vnd.jupyter.widget-view+json": {
       "model_id": "7efab70c1c964aaebde1627ea8b0a58c",
       "version_major": 2,
       "version_minor": 0
      },
      "text/plain": [
       "  0%|          | 0/20 [00:00<?, ?it/s]"
      ]
     },
     "metadata": {},
     "output_type": "display_data"
    },
    {
     "data": {
      "application/vnd.jupyter.widget-view+json": {
       "model_id": "2d291bff0bfd4cdc9c20045a65ff79bf",
       "version_major": 2,
       "version_minor": 0
      },
      "text/plain": [
       "  0%|          | 0/20 [00:00<?, ?it/s]"
      ]
     },
     "metadata": {},
     "output_type": "display_data"
    },
    {
     "data": {
      "application/vnd.jupyter.widget-view+json": {
       "model_id": "667e5d2ea99d4a8da8a509b37c31372c",
       "version_major": 2,
       "version_minor": 0
      },
      "text/plain": [
       "  0%|          | 0/20 [00:00<?, ?it/s]"
      ]
     },
     "metadata": {},
     "output_type": "display_data"
    },
    {
     "data": {
      "application/vnd.jupyter.widget-view+json": {
       "model_id": "a42c024fe7aa43cf8243f4bab9cd2559",
       "version_major": 2,
       "version_minor": 0
      },
      "text/plain": [
       "  0%|          | 0/20 [00:00<?, ?it/s]"
      ]
     },
     "metadata": {},
     "output_type": "display_data"
    },
    {
     "data": {
      "application/vnd.jupyter.widget-view+json": {
       "model_id": "2a6398adedd243a482da62562227f241",
       "version_major": 2,
       "version_minor": 0
      },
      "text/plain": [
       "  0%|          | 0/20 [00:00<?, ?it/s]"
      ]
     },
     "metadata": {},
     "output_type": "display_data"
    },
    {
     "data": {
      "application/vnd.jupyter.widget-view+json": {
       "model_id": "dafc2f6c0de045d7bc11302962a8e53e",
       "version_major": 2,
       "version_minor": 0
      },
      "text/plain": [
       "  0%|          | 0/20 [00:00<?, ?it/s]"
      ]
     },
     "metadata": {},
     "output_type": "display_data"
    },
    {
     "data": {
      "application/vnd.jupyter.widget-view+json": {
       "model_id": "b64d27df42974dd78e75d6971dc97dc6",
       "version_major": 2,
       "version_minor": 0
      },
      "text/plain": [
       "  0%|          | 0/15 [00:00<?, ?it/s]"
      ]
     },
     "metadata": {},
     "output_type": "display_data"
    },
    {
     "data": {
      "application/vnd.jupyter.widget-view+json": {
       "model_id": "623ff123d3494c0ab455a5d4d257c973",
       "version_major": 2,
       "version_minor": 0
      },
      "text/plain": [
       "  0%|          | 0/20 [00:00<?, ?it/s]"
      ]
     },
     "metadata": {},
     "output_type": "display_data"
    },
    {
     "data": {
      "application/vnd.jupyter.widget-view+json": {
       "model_id": "10ebb39c02064b88bfd7c25b60e7afd5",
       "version_major": 2,
       "version_minor": 0
      },
      "text/plain": [
       "  0%|          | 0/20 [00:00<?, ?it/s]"
      ]
     },
     "metadata": {},
     "output_type": "display_data"
    },
    {
     "data": {
      "application/vnd.jupyter.widget-view+json": {
       "model_id": "9c761abc7b0d41e5acb2248d18fa909f",
       "version_major": 2,
       "version_minor": 0
      },
      "text/plain": [
       "  0%|          | 0/20 [00:00<?, ?it/s]"
      ]
     },
     "metadata": {},
     "output_type": "display_data"
    },
    {
     "data": {
      "application/vnd.jupyter.widget-view+json": {
       "model_id": "bf770f4d8a264ca196153820b9f27e3c",
       "version_major": 2,
       "version_minor": 0
      },
      "text/plain": [
       "  0%|          | 0/20 [00:00<?, ?it/s]"
      ]
     },
     "metadata": {},
     "output_type": "display_data"
    },
    {
     "data": {
      "application/vnd.jupyter.widget-view+json": {
       "model_id": "4491013c2bd8475d9029e6992b6ad17b",
       "version_major": 2,
       "version_minor": 0
      },
      "text/plain": [
       "  0%|          | 0/20 [00:00<?, ?it/s]"
      ]
     },
     "metadata": {},
     "output_type": "display_data"
    },
    {
     "data": {
      "application/vnd.jupyter.widget-view+json": {
       "model_id": "83c60244b61843cd9586e1dac0939cbf",
       "version_major": 2,
       "version_minor": 0
      },
      "text/plain": [
       "  0%|          | 0/17 [00:00<?, ?it/s]"
      ]
     },
     "metadata": {},
     "output_type": "display_data"
    },
    {
     "data": {
      "application/vnd.jupyter.widget-view+json": {
       "model_id": "edf6780f5cfb4a49ac3d81a730e017cc",
       "version_major": 2,
       "version_minor": 0
      },
      "text/plain": [
       "  0%|          | 0/20 [00:00<?, ?it/s]"
      ]
     },
     "metadata": {},
     "output_type": "display_data"
    },
    {
     "data": {
      "application/vnd.jupyter.widget-view+json": {
       "model_id": "b8916c523c094ba89b518802f59b3956",
       "version_major": 2,
       "version_minor": 0
      },
      "text/plain": [
       "  0%|          | 0/20 [00:00<?, ?it/s]"
      ]
     },
     "metadata": {},
     "output_type": "display_data"
    },
    {
     "data": {
      "application/vnd.jupyter.widget-view+json": {
       "model_id": "605800c3d2c24c5e9666c80783bcfb1b",
       "version_major": 2,
       "version_minor": 0
      },
      "text/plain": [
       "  0%|          | 0/20 [00:00<?, ?it/s]"
      ]
     },
     "metadata": {},
     "output_type": "display_data"
    },
    {
     "data": {
      "application/vnd.jupyter.widget-view+json": {
       "model_id": "231238b4b4ae44598429a5a42f61dbaf",
       "version_major": 2,
       "version_minor": 0
      },
      "text/plain": [
       "  0%|          | 0/20 [00:00<?, ?it/s]"
      ]
     },
     "metadata": {},
     "output_type": "display_data"
    },
    {
     "data": {
      "application/vnd.jupyter.widget-view+json": {
       "model_id": "16a82bccdeaa4ed28ebe2b09090a040d",
       "version_major": 2,
       "version_minor": 0
      },
      "text/plain": [
       "  0%|          | 0/20 [00:00<?, ?it/s]"
      ]
     },
     "metadata": {},
     "output_type": "display_data"
    },
    {
     "data": {
      "application/vnd.jupyter.widget-view+json": {
       "model_id": "9d13320c632142e39c0173092ecf0848",
       "version_major": 2,
       "version_minor": 0
      },
      "text/plain": [
       "  0%|          | 0/20 [00:00<?, ?it/s]"
      ]
     },
     "metadata": {},
     "output_type": "display_data"
    },
    {
     "data": {
      "application/vnd.jupyter.widget-view+json": {
       "model_id": "73a1af3649e14158a461f9ad56d93943",
       "version_major": 2,
       "version_minor": 0
      },
      "text/plain": [
       "  0%|          | 0/9 [00:00<?, ?it/s]"
      ]
     },
     "metadata": {},
     "output_type": "display_data"
    },
    {
     "data": {
      "application/vnd.jupyter.widget-view+json": {
       "model_id": "0eb12dc2ebaf48329622e477a4d1aa0a",
       "version_major": 2,
       "version_minor": 0
      },
      "text/plain": [
       "  0%|          | 0/20 [00:00<?, ?it/s]"
      ]
     },
     "metadata": {},
     "output_type": "display_data"
    },
    {
     "data": {
      "application/vnd.jupyter.widget-view+json": {
       "model_id": "abfead929efa426f9af8e0ef6b956a2a",
       "version_major": 2,
       "version_minor": 0
      },
      "text/plain": [
       "  0%|          | 0/20 [00:00<?, ?it/s]"
      ]
     },
     "metadata": {},
     "output_type": "display_data"
    },
    {
     "data": {
      "application/vnd.jupyter.widget-view+json": {
       "model_id": "12945d055dc245c0a8dead3d89a5f8d5",
       "version_major": 2,
       "version_minor": 0
      },
      "text/plain": [
       "  0%|          | 0/20 [00:00<?, ?it/s]"
      ]
     },
     "metadata": {},
     "output_type": "display_data"
    },
    {
     "data": {
      "application/vnd.jupyter.widget-view+json": {
       "model_id": "8de4c71660cb463c973593e089becc4f",
       "version_major": 2,
       "version_minor": 0
      },
      "text/plain": [
       "  0%|          | 0/20 [00:00<?, ?it/s]"
      ]
     },
     "metadata": {},
     "output_type": "display_data"
    },
    {
     "data": {
      "application/vnd.jupyter.widget-view+json": {
       "model_id": "fb43fe47fb3045d78014a955e4a47e54",
       "version_major": 2,
       "version_minor": 0
      },
      "text/plain": [
       "  0%|          | 0/20 [00:00<?, ?it/s]"
      ]
     },
     "metadata": {},
     "output_type": "display_data"
    },
    {
     "data": {
      "application/vnd.jupyter.widget-view+json": {
       "model_id": "df1efd7f0e1b4966a4e1ca6f4c772dfe",
       "version_major": 2,
       "version_minor": 0
      },
      "text/plain": [
       "  0%|          | 0/20 [00:00<?, ?it/s]"
      ]
     },
     "metadata": {},
     "output_type": "display_data"
    },
    {
     "data": {
      "application/vnd.jupyter.widget-view+json": {
       "model_id": "197621863a2c477d8ebcc3e08d73d6d9",
       "version_major": 2,
       "version_minor": 0
      },
      "text/plain": [
       "  0%|          | 0/16 [00:00<?, ?it/s]"
      ]
     },
     "metadata": {},
     "output_type": "display_data"
    },
    {
     "data": {
      "application/vnd.jupyter.widget-view+json": {
       "model_id": "baf2ff38180446669e6421ff27c24357",
       "version_major": 2,
       "version_minor": 0
      },
      "text/plain": [
       "  0%|          | 0/18 [00:00<?, ?it/s]"
      ]
     },
     "metadata": {},
     "output_type": "display_data"
    },
    {
     "data": {
      "application/vnd.jupyter.widget-view+json": {
       "model_id": "223b91bf477a44f894453ee7d7c48381",
       "version_major": 2,
       "version_minor": 0
      },
      "text/plain": [
       "  0%|          | 0/20 [00:00<?, ?it/s]"
      ]
     },
     "metadata": {},
     "output_type": "display_data"
    },
    {
     "data": {
      "application/vnd.jupyter.widget-view+json": {
       "model_id": "ededf69652d240eb94e4d874eef46202",
       "version_major": 2,
       "version_minor": 0
      },
      "text/plain": [
       "  0%|          | 0/20 [00:00<?, ?it/s]"
      ]
     },
     "metadata": {},
     "output_type": "display_data"
    },
    {
     "data": {
      "application/vnd.jupyter.widget-view+json": {
       "model_id": "03ed1e671fa9459d99ad21ed2c6e7244",
       "version_major": 2,
       "version_minor": 0
      },
      "text/plain": [
       "  0%|          | 0/20 [00:00<?, ?it/s]"
      ]
     },
     "metadata": {},
     "output_type": "display_data"
    },
    {
     "data": {
      "application/vnd.jupyter.widget-view+json": {
       "model_id": "91bb4e9548de426fa149773ded1d92dd",
       "version_major": 2,
       "version_minor": 0
      },
      "text/plain": [
       "  0%|          | 0/20 [00:00<?, ?it/s]"
      ]
     },
     "metadata": {},
     "output_type": "display_data"
    },
    {
     "data": {
      "application/vnd.jupyter.widget-view+json": {
       "model_id": "7e91679fd5fc4246b76c67258a1cf64e",
       "version_major": 2,
       "version_minor": 0
      },
      "text/plain": [
       "  0%|          | 0/20 [00:00<?, ?it/s]"
      ]
     },
     "metadata": {},
     "output_type": "display_data"
    },
    {
     "data": {
      "application/vnd.jupyter.widget-view+json": {
       "model_id": "4919691c36fd4eecad3c2ebdd6d9285d",
       "version_major": 2,
       "version_minor": 0
      },
      "text/plain": [
       "  0%|          | 0/20 [00:00<?, ?it/s]"
      ]
     },
     "metadata": {},
     "output_type": "display_data"
    },
    {
     "data": {
      "application/vnd.jupyter.widget-view+json": {
       "model_id": "d54e6a9b3d554ea0b5e69d227dbded3a",
       "version_major": 2,
       "version_minor": 0
      },
      "text/plain": [
       "  0%|          | 0/20 [00:00<?, ?it/s]"
      ]
     },
     "metadata": {},
     "output_type": "display_data"
    },
    {
     "data": {
      "application/vnd.jupyter.widget-view+json": {
       "model_id": "5cd311ed05f94729bb7870c53429ad77",
       "version_major": 2,
       "version_minor": 0
      },
      "text/plain": [
       "  0%|          | 0/20 [00:00<?, ?it/s]"
      ]
     },
     "metadata": {},
     "output_type": "display_data"
    },
    {
     "data": {
      "application/vnd.jupyter.widget-view+json": {
       "model_id": "63a3dd82c0894f90aa5c5f699a65b399",
       "version_major": 2,
       "version_minor": 0
      },
      "text/plain": [
       "  0%|          | 0/20 [00:00<?, ?it/s]"
      ]
     },
     "metadata": {},
     "output_type": "display_data"
    },
    {
     "data": {
      "application/vnd.jupyter.widget-view+json": {
       "model_id": "51cb06b1b74741e9b5b7700bdb3fcfdd",
       "version_major": 2,
       "version_minor": 0
      },
      "text/plain": [
       "  0%|          | 0/20 [00:00<?, ?it/s]"
      ]
     },
     "metadata": {},
     "output_type": "display_data"
    },
    {
     "data": {
      "application/vnd.jupyter.widget-view+json": {
       "model_id": "d7430f31d081433eb7522d03afa01dc8",
       "version_major": 2,
       "version_minor": 0
      },
      "text/plain": [
       "  0%|          | 0/20 [00:00<?, ?it/s]"
      ]
     },
     "metadata": {},
     "output_type": "display_data"
    },
    {
     "data": {
      "application/vnd.jupyter.widget-view+json": {
       "model_id": "b97d9760f1294e76a3e79b005ac584df",
       "version_major": 2,
       "version_minor": 0
      },
      "text/plain": [
       "  0%|          | 0/20 [00:00<?, ?it/s]"
      ]
     },
     "metadata": {},
     "output_type": "display_data"
    },
    {
     "data": {
      "application/vnd.jupyter.widget-view+json": {
       "model_id": "696a761c46334439a1d218dcd87b2521",
       "version_major": 2,
       "version_minor": 0
      },
      "text/plain": [
       "  0%|          | 0/18 [00:00<?, ?it/s]"
      ]
     },
     "metadata": {},
     "output_type": "display_data"
    },
    {
     "data": {
      "application/vnd.jupyter.widget-view+json": {
       "model_id": "82da01ae6d424b78b0818900ce374353",
       "version_major": 2,
       "version_minor": 0
      },
      "text/plain": [
       "  0%|          | 0/20 [00:00<?, ?it/s]"
      ]
     },
     "metadata": {},
     "output_type": "display_data"
    },
    {
     "data": {
      "application/vnd.jupyter.widget-view+json": {
       "model_id": "4a9b025d7ac84364ac00356b8e78942d",
       "version_major": 2,
       "version_minor": 0
      },
      "text/plain": [
       "  0%|          | 0/20 [00:00<?, ?it/s]"
      ]
     },
     "metadata": {},
     "output_type": "display_data"
    },
    {
     "data": {
      "application/vnd.jupyter.widget-view+json": {
       "model_id": "251d6f9518e94d72aa47810bf2b3c39d",
       "version_major": 2,
       "version_minor": 0
      },
      "text/plain": [
       "  0%|          | 0/20 [00:00<?, ?it/s]"
      ]
     },
     "metadata": {},
     "output_type": "display_data"
    },
    {
     "data": {
      "application/vnd.jupyter.widget-view+json": {
       "model_id": "26f385c4e5d94b5b94fa847da2649425",
       "version_major": 2,
       "version_minor": 0
      },
      "text/plain": [
       "  0%|          | 0/20 [00:00<?, ?it/s]"
      ]
     },
     "metadata": {},
     "output_type": "display_data"
    },
    {
     "data": {
      "application/vnd.jupyter.widget-view+json": {
       "model_id": "f62e0ecbe62d4eeabf856f3f946ba341",
       "version_major": 2,
       "version_minor": 0
      },
      "text/plain": [
       "  0%|          | 0/20 [00:00<?, ?it/s]"
      ]
     },
     "metadata": {},
     "output_type": "display_data"
    },
    {
     "data": {
      "application/vnd.jupyter.widget-view+json": {
       "model_id": "6880892754014c3884b86a7624aa7b93",
       "version_major": 2,
       "version_minor": 0
      },
      "text/plain": [
       "  0%|          | 0/20 [00:00<?, ?it/s]"
      ]
     },
     "metadata": {},
     "output_type": "display_data"
    },
    {
     "data": {
      "application/vnd.jupyter.widget-view+json": {
       "model_id": "f6a20d7a5df34cb5afa94642deeddc1d",
       "version_major": 2,
       "version_minor": 0
      },
      "text/plain": [
       "  0%|          | 0/17 [00:00<?, ?it/s]"
      ]
     },
     "metadata": {},
     "output_type": "display_data"
    },
    {
     "data": {
      "application/vnd.jupyter.widget-view+json": {
       "model_id": "b386c7acb03947a696c8047cdadde86c",
       "version_major": 2,
       "version_minor": 0
      },
      "text/plain": [
       "  0%|          | 0/9 [00:00<?, ?it/s]"
      ]
     },
     "metadata": {},
     "output_type": "display_data"
    },
    {
     "data": {
      "application/vnd.jupyter.widget-view+json": {
       "model_id": "b75507c7ff5144cfb709fec7de1936c8",
       "version_major": 2,
       "version_minor": 0
      },
      "text/plain": [
       "  0%|          | 0/16 [00:00<?, ?it/s]"
      ]
     },
     "metadata": {},
     "output_type": "display_data"
    },
    {
     "data": {
      "application/vnd.jupyter.widget-view+json": {
       "model_id": "d6fccd07a3364c4c8ef022df77368609",
       "version_major": 2,
       "version_minor": 0
      },
      "text/plain": [
       "  0%|          | 0/16 [00:00<?, ?it/s]"
      ]
     },
     "metadata": {},
     "output_type": "display_data"
    },
    {
     "data": {
      "application/vnd.jupyter.widget-view+json": {
       "model_id": "4ff6f5f17bb94c59abbae3b204827c91",
       "version_major": 2,
       "version_minor": 0
      },
      "text/plain": [
       "  0%|          | 0/12 [00:00<?, ?it/s]"
      ]
     },
     "metadata": {},
     "output_type": "display_data"
    },
    {
     "data": {
      "application/vnd.jupyter.widget-view+json": {
       "model_id": "4a6127c87da84840a3a6d3a3c7d3ae6d",
       "version_major": 2,
       "version_minor": 0
      },
      "text/plain": [
       "  0%|          | 0/20 [00:00<?, ?it/s]"
      ]
     },
     "metadata": {},
     "output_type": "display_data"
    },
    {
     "data": {
      "application/vnd.jupyter.widget-view+json": {
       "model_id": "10c7ae9e800c400babcbf1fca6b7307f",
       "version_major": 2,
       "version_minor": 0
      },
      "text/plain": [
       "  0%|          | 0/20 [00:00<?, ?it/s]"
      ]
     },
     "metadata": {},
     "output_type": "display_data"
    },
    {
     "data": {
      "application/vnd.jupyter.widget-view+json": {
       "model_id": "413045663fc14cbd9f271fa8a1c723c3",
       "version_major": 2,
       "version_minor": 0
      },
      "text/plain": [
       "  0%|          | 0/5 [00:00<?, ?it/s]"
      ]
     },
     "metadata": {},
     "output_type": "display_data"
    },
    {
     "data": {
      "application/vnd.jupyter.widget-view+json": {
       "model_id": "55f5cbe4cfec48f480ae5d7b33e2504d",
       "version_major": 2,
       "version_minor": 0
      },
      "text/plain": [
       "  0%|          | 0/20 [00:00<?, ?it/s]"
      ]
     },
     "metadata": {},
     "output_type": "display_data"
    },
    {
     "data": {
      "application/vnd.jupyter.widget-view+json": {
       "model_id": "da3134375a384f9a9badf95a8caeaeef",
       "version_major": 2,
       "version_minor": 0
      },
      "text/plain": [
       "  0%|          | 0/20 [00:00<?, ?it/s]"
      ]
     },
     "metadata": {},
     "output_type": "display_data"
    },
    {
     "data": {
      "application/vnd.jupyter.widget-view+json": {
       "model_id": "3f830c044ec84fce8d6a274d60b3aaef",
       "version_major": 2,
       "version_minor": 0
      },
      "text/plain": [
       "  0%|          | 0/20 [00:00<?, ?it/s]"
      ]
     },
     "metadata": {},
     "output_type": "display_data"
    },
    {
     "data": {
      "application/vnd.jupyter.widget-view+json": {
       "model_id": "db21177cc75b4b19b99cd65968ab71ed",
       "version_major": 2,
       "version_minor": 0
      },
      "text/plain": [
       "  0%|          | 0/20 [00:00<?, ?it/s]"
      ]
     },
     "metadata": {},
     "output_type": "display_data"
    },
    {
     "data": {
      "application/vnd.jupyter.widget-view+json": {
       "model_id": "458daf0e68d64f4989cf2cd1931dae2f",
       "version_major": 2,
       "version_minor": 0
      },
      "text/plain": [
       "  0%|          | 0/20 [00:00<?, ?it/s]"
      ]
     },
     "metadata": {},
     "output_type": "display_data"
    },
    {
     "data": {
      "application/vnd.jupyter.widget-view+json": {
       "model_id": "ba4bf21f22534f548c6dabf8ad8d4a58",
       "version_major": 2,
       "version_minor": 0
      },
      "text/plain": [
       "  0%|          | 0/20 [00:00<?, ?it/s]"
      ]
     },
     "metadata": {},
     "output_type": "display_data"
    },
    {
     "data": {
      "application/vnd.jupyter.widget-view+json": {
       "model_id": "9ff964a2839a4eff9e43dcc59976203b",
       "version_major": 2,
       "version_minor": 0
      },
      "text/plain": [
       "  0%|          | 0/13 [00:00<?, ?it/s]"
      ]
     },
     "metadata": {},
     "output_type": "display_data"
    },
    {
     "data": {
      "application/vnd.jupyter.widget-view+json": {
       "model_id": "5a179b82d67841ca92fe94875b7d1616",
       "version_major": 2,
       "version_minor": 0
      },
      "text/plain": [
       "  0%|          | 0/20 [00:00<?, ?it/s]"
      ]
     },
     "metadata": {},
     "output_type": "display_data"
    },
    {
     "data": {
      "application/vnd.jupyter.widget-view+json": {
       "model_id": "a35263eda4d24fb1ba32d54137326f55",
       "version_major": 2,
       "version_minor": 0
      },
      "text/plain": [
       "  0%|          | 0/20 [00:00<?, ?it/s]"
      ]
     },
     "metadata": {},
     "output_type": "display_data"
    },
    {
     "data": {
      "application/vnd.jupyter.widget-view+json": {
       "model_id": "ba83701bde044437822d0c60bc469d7c",
       "version_major": 2,
       "version_minor": 0
      },
      "text/plain": [
       "  0%|          | 0/20 [00:00<?, ?it/s]"
      ]
     },
     "metadata": {},
     "output_type": "display_data"
    },
    {
     "data": {
      "application/vnd.jupyter.widget-view+json": {
       "model_id": "363132cb392847bba63f50da42dde552",
       "version_major": 2,
       "version_minor": 0
      },
      "text/plain": [
       "  0%|          | 0/20 [00:00<?, ?it/s]"
      ]
     },
     "metadata": {},
     "output_type": "display_data"
    },
    {
     "data": {
      "application/vnd.jupyter.widget-view+json": {
       "model_id": "f50126a8433943259ff813875ae8b012",
       "version_major": 2,
       "version_minor": 0
      },
      "text/plain": [
       "  0%|          | 0/20 [00:00<?, ?it/s]"
      ]
     },
     "metadata": {},
     "output_type": "display_data"
    },
    {
     "data": {
      "application/vnd.jupyter.widget-view+json": {
       "model_id": "06f482095218452d9cacd365fad4fa64",
       "version_major": 2,
       "version_minor": 0
      },
      "text/plain": [
       "  0%|          | 0/15 [00:00<?, ?it/s]"
      ]
     },
     "metadata": {},
     "output_type": "display_data"
    },
    {
     "data": {
      "application/vnd.jupyter.widget-view+json": {
       "model_id": "0eeade81b9c8421b908f1894dc40b04f",
       "version_major": 2,
       "version_minor": 0
      },
      "text/plain": [
       "  0%|          | 0/10 [00:00<?, ?it/s]"
      ]
     },
     "metadata": {},
     "output_type": "display_data"
    },
    {
     "data": {
      "application/vnd.jupyter.widget-view+json": {
       "model_id": "da3cc110cc744f0c82bbfde996fc5d24",
       "version_major": 2,
       "version_minor": 0
      },
      "text/plain": [
       "  0%|          | 0/20 [00:00<?, ?it/s]"
      ]
     },
     "metadata": {},
     "output_type": "display_data"
    },
    {
     "data": {
      "application/vnd.jupyter.widget-view+json": {
       "model_id": "71fd71edb04842ef8c016540ce3460ec",
       "version_major": 2,
       "version_minor": 0
      },
      "text/plain": [
       "  0%|          | 0/20 [00:00<?, ?it/s]"
      ]
     },
     "metadata": {},
     "output_type": "display_data"
    },
    {
     "data": {
      "application/vnd.jupyter.widget-view+json": {
       "model_id": "3a9522cb318f4f9ea1c8cbd7f205b039",
       "version_major": 2,
       "version_minor": 0
      },
      "text/plain": [
       "  0%|          | 0/20 [00:00<?, ?it/s]"
      ]
     },
     "metadata": {},
     "output_type": "display_data"
    },
    {
     "data": {
      "application/vnd.jupyter.widget-view+json": {
       "model_id": "909023495e3f4b5d9dd7464633fb80da",
       "version_major": 2,
       "version_minor": 0
      },
      "text/plain": [
       "  0%|          | 0/20 [00:00<?, ?it/s]"
      ]
     },
     "metadata": {},
     "output_type": "display_data"
    },
    {
     "data": {
      "application/vnd.jupyter.widget-view+json": {
       "model_id": "82221f3e8235474d9b645ae53968ae97",
       "version_major": 2,
       "version_minor": 0
      },
      "text/plain": [
       "  0%|          | 0/20 [00:00<?, ?it/s]"
      ]
     },
     "metadata": {},
     "output_type": "display_data"
    },
    {
     "data": {
      "application/vnd.jupyter.widget-view+json": {
       "model_id": "446c3ea3cd584d3d88ef6bccb5b1b501",
       "version_major": 2,
       "version_minor": 0
      },
      "text/plain": [
       "  0%|          | 0/20 [00:00<?, ?it/s]"
      ]
     },
     "metadata": {},
     "output_type": "display_data"
    },
    {
     "data": {
      "application/vnd.jupyter.widget-view+json": {
       "model_id": "f415e68e846f4f268061887e84f9259c",
       "version_major": 2,
       "version_minor": 0
      },
      "text/plain": [
       "  0%|          | 0/20 [00:00<?, ?it/s]"
      ]
     },
     "metadata": {},
     "output_type": "display_data"
    },
    {
     "data": {
      "application/vnd.jupyter.widget-view+json": {
       "model_id": "cb61fb2db6e54bc3802d2dbf4c3d4ee5",
       "version_major": 2,
       "version_minor": 0
      },
      "text/plain": [
       "  0%|          | 0/20 [00:00<?, ?it/s]"
      ]
     },
     "metadata": {},
     "output_type": "display_data"
    },
    {
     "data": {
      "application/vnd.jupyter.widget-view+json": {
       "model_id": "717eae24d9ab443db57a4e6119067721",
       "version_major": 2,
       "version_minor": 0
      },
      "text/plain": [
       "  0%|          | 0/20 [00:00<?, ?it/s]"
      ]
     },
     "metadata": {},
     "output_type": "display_data"
    },
    {
     "data": {
      "application/vnd.jupyter.widget-view+json": {
       "model_id": "0c3327dc5c0a4ce3862d131c239402fa",
       "version_major": 2,
       "version_minor": 0
      },
      "text/plain": [
       "  0%|          | 0/20 [00:00<?, ?it/s]"
      ]
     },
     "metadata": {},
     "output_type": "display_data"
    },
    {
     "data": {
      "application/vnd.jupyter.widget-view+json": {
       "model_id": "3798366c5fb542e0be697aee225266d6",
       "version_major": 2,
       "version_minor": 0
      },
      "text/plain": [
       "  0%|          | 0/20 [00:00<?, ?it/s]"
      ]
     },
     "metadata": {},
     "output_type": "display_data"
    },
    {
     "data": {
      "application/vnd.jupyter.widget-view+json": {
       "model_id": "0eb785238b514e6095211c7a78901a6b",
       "version_major": 2,
       "version_minor": 0
      },
      "text/plain": [
       "  0%|          | 0/20 [00:00<?, ?it/s]"
      ]
     },
     "metadata": {},
     "output_type": "display_data"
    },
    {
     "data": {
      "application/vnd.jupyter.widget-view+json": {
       "model_id": "5f8ec3b0558f4a5595aa67cdcd22035b",
       "version_major": 2,
       "version_minor": 0
      },
      "text/plain": [
       "  0%|          | 0/20 [00:00<?, ?it/s]"
      ]
     },
     "metadata": {},
     "output_type": "display_data"
    },
    {
     "data": {
      "application/vnd.jupyter.widget-view+json": {
       "model_id": "3ffd5d6c5bbe441694f9ca4dbe1acd68",
       "version_major": 2,
       "version_minor": 0
      },
      "text/plain": [
       "  0%|          | 0/20 [00:00<?, ?it/s]"
      ]
     },
     "metadata": {},
     "output_type": "display_data"
    },
    {
     "data": {
      "application/vnd.jupyter.widget-view+json": {
       "model_id": "afdda18055f14beabb75df36d8e55aac",
       "version_major": 2,
       "version_minor": 0
      },
      "text/plain": [
       "  0%|          | 0/20 [00:00<?, ?it/s]"
      ]
     },
     "metadata": {},
     "output_type": "display_data"
    },
    {
     "data": {
      "application/vnd.jupyter.widget-view+json": {
       "model_id": "7787cf097130492e91c8ef17997da9cf",
       "version_major": 2,
       "version_minor": 0
      },
      "text/plain": [
       "  0%|          | 0/20 [00:00<?, ?it/s]"
      ]
     },
     "metadata": {},
     "output_type": "display_data"
    },
    {
     "data": {
      "application/vnd.jupyter.widget-view+json": {
       "model_id": "06d0ea61e9b54fc2b8447b779e573abc",
       "version_major": 2,
       "version_minor": 0
      },
      "text/plain": [
       "  0%|          | 0/20 [00:00<?, ?it/s]"
      ]
     },
     "metadata": {},
     "output_type": "display_data"
    },
    {
     "data": {
      "application/vnd.jupyter.widget-view+json": {
       "model_id": "1f190341841c43969ad76b21c237b597",
       "version_major": 2,
       "version_minor": 0
      },
      "text/plain": [
       "  0%|          | 0/20 [00:00<?, ?it/s]"
      ]
     },
     "metadata": {},
     "output_type": "display_data"
    },
    {
     "data": {
      "application/vnd.jupyter.widget-view+json": {
       "model_id": "b67cc233d02447249c09815c9f0c227d",
       "version_major": 2,
       "version_minor": 0
      },
      "text/plain": [
       "  0%|          | 0/20 [00:00<?, ?it/s]"
      ]
     },
     "metadata": {},
     "output_type": "display_data"
    },
    {
     "data": {
      "application/vnd.jupyter.widget-view+json": {
       "model_id": "7b5ba4a0a0bf4b24960fda3af484c139",
       "version_major": 2,
       "version_minor": 0
      },
      "text/plain": [
       "  0%|          | 0/20 [00:00<?, ?it/s]"
      ]
     },
     "metadata": {},
     "output_type": "display_data"
    },
    {
     "data": {
      "application/vnd.jupyter.widget-view+json": {
       "model_id": "3018d72b4b4943da942fd6efbc139dce",
       "version_major": 2,
       "version_minor": 0
      },
      "text/plain": [
       "  0%|          | 0/14 [00:00<?, ?it/s]"
      ]
     },
     "metadata": {},
     "output_type": "display_data"
    },
    {
     "data": {
      "application/vnd.jupyter.widget-view+json": {
       "model_id": "81af5e9fad124a8cb7343d9f71a295a3",
       "version_major": 2,
       "version_minor": 0
      },
      "text/plain": [
       "  0%|          | 0/9 [00:00<?, ?it/s]"
      ]
     },
     "metadata": {},
     "output_type": "display_data"
    },
    {
     "data": {
      "application/vnd.jupyter.widget-view+json": {
       "model_id": "a8efeee2b61c4748b1db753f1e4934c7",
       "version_major": 2,
       "version_minor": 0
      },
      "text/plain": [
       "  0%|          | 0/20 [00:00<?, ?it/s]"
      ]
     },
     "metadata": {},
     "output_type": "display_data"
    },
    {
     "data": {
      "application/vnd.jupyter.widget-view+json": {
       "model_id": "4938d8ac84aa454082ce7870f05790a6",
       "version_major": 2,
       "version_minor": 0
      },
      "text/plain": [
       "  0%|          | 0/20 [00:00<?, ?it/s]"
      ]
     },
     "metadata": {},
     "output_type": "display_data"
    },
    {
     "data": {
      "application/vnd.jupyter.widget-view+json": {
       "model_id": "39d9ef6a17ed4285a4ff59de3a787c84",
       "version_major": 2,
       "version_minor": 0
      },
      "text/plain": [
       "  0%|          | 0/20 [00:00<?, ?it/s]"
      ]
     },
     "metadata": {},
     "output_type": "display_data"
    },
    {
     "data": {
      "application/vnd.jupyter.widget-view+json": {
       "model_id": "cb8670acd2e44dbe84ec459a8cd00793",
       "version_major": 2,
       "version_minor": 0
      },
      "text/plain": [
       "  0%|          | 0/20 [00:00<?, ?it/s]"
      ]
     },
     "metadata": {},
     "output_type": "display_data"
    },
    {
     "data": {
      "application/vnd.jupyter.widget-view+json": {
       "model_id": "7001652e982440cfb0eb50ccab7de084",
       "version_major": 2,
       "version_minor": 0
      },
      "text/plain": [
       "  0%|          | 0/20 [00:00<?, ?it/s]"
      ]
     },
     "metadata": {},
     "output_type": "display_data"
    },
    {
     "data": {
      "application/vnd.jupyter.widget-view+json": {
       "model_id": "250c62015e314acdbd398ed1c9df1309",
       "version_major": 2,
       "version_minor": 0
      },
      "text/plain": [
       "  0%|          | 0/9 [00:00<?, ?it/s]"
      ]
     },
     "metadata": {},
     "output_type": "display_data"
    },
    {
     "data": {
      "application/vnd.jupyter.widget-view+json": {
       "model_id": "66c36232752c4fe9a3c5b005652969b7",
       "version_major": 2,
       "version_minor": 0
      },
      "text/plain": [
       "  0%|          | 0/20 [00:00<?, ?it/s]"
      ]
     },
     "metadata": {},
     "output_type": "display_data"
    },
    {
     "data": {
      "application/vnd.jupyter.widget-view+json": {
       "model_id": "232b2b23566942ca8c931d8f192213e4",
       "version_major": 2,
       "version_minor": 0
      },
      "text/plain": [
       "  0%|          | 0/20 [00:00<?, ?it/s]"
      ]
     },
     "metadata": {},
     "output_type": "display_data"
    },
    {
     "data": {
      "application/vnd.jupyter.widget-view+json": {
       "model_id": "46dda84e8a1e47209fdf1c26d29f3315",
       "version_major": 2,
       "version_minor": 0
      },
      "text/plain": [
       "  0%|          | 0/20 [00:00<?, ?it/s]"
      ]
     },
     "metadata": {},
     "output_type": "display_data"
    },
    {
     "data": {
      "application/vnd.jupyter.widget-view+json": {
       "model_id": "ff7b85a2df5143649068ba4d2331b1b9",
       "version_major": 2,
       "version_minor": 0
      },
      "text/plain": [
       "  0%|          | 0/20 [00:00<?, ?it/s]"
      ]
     },
     "metadata": {},
     "output_type": "display_data"
    }
   ],
   "source": [
    "from datetime import datetime, timedelta\n",
    "from tqdm.notebook import tqdm\n",
    "import requests\n",
    "import pandas as pd\n",
    "from bs4 import BeautifulSoup\n",
    "\n",
    "\n",
    "end_date = datetime(2025, 5, 21)\n",
    "periods = 1\n",
    "start_date = end_date - timedelta(periods - 1)\n",
    "\n",
    "dates = pd.date_range(start_date, periods=periods).tolist()\n",
    "df = pd.DataFrame(columns=['Date', 'Title', 'Link', 'Text'])\n",
    "date_tqdm = tqdm(dates)\n",
    "\n",
    "for date in date_tqdm:\n",
    "    dd = date.day\n",
    "    mm = date.month\n",
    "    yy = date.year\n",
    "\n",
    "    date_tqdm.set_description(f'Scrapping date of {dd}-{mm}-{yy}')\n",
    "    \n",
    "    target = f'tanggal={dd}&bulan={mm}&tahun={yy}&pos=indeks&per_page='\n",
    "    url = 'https://www.kontan.co.id/search/indeks?kanal=investasi&' + target\n",
    "\n",
    "    req = requests.get(url)\n",
    "    soup = BeautifulSoup(req.text, 'html.parser')\n",
    "    links = soup.find_all('div', class_='sp-hl linkto-black')\n",
    "    links_tqdm = tqdm(links)\n",
    "\n",
    "    for element in links_tqdm:\n",
    "        title = element.text\n",
    "        link = element.find('a').attrs['href']\n",
    "\n",
    "        desc = f'Scrapping article of {title[:20]}...'\n",
    "        links_tqdm.set_description(desc)\n",
    "\n",
    "        req = requests.get(link)\n",
    "        soup = BeautifulSoup(req.text, 'html.parser')\n",
    "\n",
    "        text = soup.find_all('p')[1:-3]\n",
    "        clean_text = '\\n'.join([text[i].text for i in range(len(text))])\n",
    "\n",
    "        df.loc[len(df)] = [date, title, link, clean_text]\n",
    "\n",
    "        break"
   ]
  },
  {
   "cell_type": "markdown",
   "metadata": {},
   "source": [
    "#### I Like this more"
   ]
  },
  {
   "cell_type": "code",
   "execution_count": 96,
   "metadata": {},
   "outputs": [
    {
     "data": {
      "application/vnd.jupyter.widget-view+json": {
       "model_id": "37c4abd8d1f842d2b6420e57def09399",
       "version_major": 2,
       "version_minor": 0
      },
      "text/plain": [
       "  0%|          | 0/60 [00:00<?, ?it/s]"
      ]
     },
     "metadata": {},
     "output_type": "display_data"
    }
   ],
   "source": [
    "from datetime import datetime, timedelta\n",
    "from tqdm.notebook import tqdm\n",
    "from bs4 import BeautifulSoup\n",
    "import pandas as pd\n",
    "import requests\n",
    "\n",
    "\n",
    "end_date = datetime(2025, 5, 21)\n",
    "periods = 60\n",
    "start_date = end_date - timedelta(periods - 1)\n",
    "\n",
    "dates = pd.date_range(start_date, periods=periods).tolist()\n",
    "df = pd.DataFrame(columns=['Date', 'Title', 'Link', 'Text'])\n",
    "date_tqdm = tqdm(dates)\n",
    "\n",
    "for date in date_tqdm:\n",
    "    dd = date.day\n",
    "    mm = date.month\n",
    "    yy = date.year\n",
    "    \n",
    "    target = f'tanggal={dd}&bulan={mm}&tahun={yy}&pos=indeks&per_page='\n",
    "    url = 'https://www.kontan.co.id/search/indeks?kanal=investasi&' + target\n",
    "\n",
    "    req = requests.get(url)\n",
    "    soup = BeautifulSoup(req.text, 'html.parser')\n",
    "    \n",
    "    nav = soup.find('ul', class_='cd-pagination')\n",
    "\n",
    "    if nav:\n",
    "        nav_elems = nav.find_all('a')\n",
    "        n_page = len([elem.text for elem in nav_elems if elem.text.isdigit()])\n",
    "    else:\n",
    "        n_page = 1\n",
    "\n",
    "    pages = ['', *(str(i) for i in range(20, n_page*20, 20))]\n",
    "\n",
    "    for index, page in enumerate(pages):\n",
    "        if page:\n",
    "            req = requests.get(url + page) \n",
    "            soup = soup = BeautifulSoup(req.text, 'html.parser')\n",
    "\n",
    "        links = soup.find_all('div', class_='sp-hl linkto-black')\n",
    "\n",
    "        for element in links:\n",
    "            title = element.text\n",
    "            link = element.find('a').attrs['href']\n",
    "\n",
    "            desc = (\n",
    "                f'Scrapping: {dd}/{mm}/{yy} page: {index+1}/{n_page} ' +\n",
    "                f'article: {title[:20]}... | '\n",
    "            )\n",
    "            date_tqdm.set_description(desc)\n",
    "\n",
    "            req = requests.get(link)\n",
    "            soup = BeautifulSoup(req.text, 'html.parser')\n",
    "\n",
    "            text_elems = soup.find_all('p')[1:-1]\n",
    "\n",
    "            for text_elem in text_elems:\n",
    "                [i.extract() for i in text_elem.select('b')]\n",
    "                [i.extract() for i in text_elem.select('a')]\n",
    "                [i.extract() for i in text_elem.select('h2')]\n",
    "                [i.extract() for i in text_elem.select('strong')]\n",
    "\n",
    "            text = '\\n'.join([elem.get_text() for elem in text_elems])\n",
    "\n",
    "            df.loc[len(df)] = [date, title, link, text]"
   ]
  },
  {
   "cell_type": "code",
   "execution_count": 97,
   "metadata": {},
   "outputs": [
    {
     "data": {
      "text/html": [
       "<div>\n",
       "<style scoped>\n",
       "    .dataframe tbody tr th:only-of-type {\n",
       "        vertical-align: middle;\n",
       "    }\n",
       "\n",
       "    .dataframe tbody tr th {\n",
       "        vertical-align: top;\n",
       "    }\n",
       "\n",
       "    .dataframe thead th {\n",
       "        text-align: right;\n",
       "    }\n",
       "</style>\n",
       "<table border=\"1\" class=\"dataframe\">\n",
       "  <thead>\n",
       "    <tr style=\"text-align: right;\">\n",
       "      <th></th>\n",
       "      <th>Date</th>\n",
       "      <th>Title</th>\n",
       "      <th>Link</th>\n",
       "      <th>Text</th>\n",
       "    </tr>\n",
       "  </thead>\n",
       "  <tbody>\n",
       "    <tr>\n",
       "      <th>0</th>\n",
       "      <td>2025-03-23</td>\n",
       "      <td>Sempat Anjlok 3,95%, Begini Proyeksi IHSG, Sen...</td>\n",
       "      <td>https://investasi.kontan.co.id/news/sempat-anj...</td>\n",
       "      <td>. Indeks Harga Saham Gabungan (IHSG) melemah d...</td>\n",
       "    </tr>\n",
       "    <tr>\n",
       "      <th>1</th>\n",
       "      <td>2025-03-23</td>\n",
       "      <td>Dolar AS Melemah, Bagaimana Pergerakan Sejumla...</td>\n",
       "      <td>https://investasi.kontan.co.id/news/dolar-as-m...</td>\n",
       "      <td>Sejumlah mata uang mayor bergerak fluktuatif d...</td>\n",
       "    </tr>\n",
       "    <tr>\n",
       "      <th>2</th>\n",
       "      <td>2025-03-23</td>\n",
       "      <td>5 Faktor Penyebab Risiko Investasi (CDS) Indon...</td>\n",
       "      <td>https://investasi.kontan.co.id/news/5-faktor-p...</td>\n",
       "      <td>Persepsi risiko investasi atawa Credit Defaul...</td>\n",
       "    </tr>\n",
       "    <tr>\n",
       "      <th>3</th>\n",
       "      <td>2025-03-23</td>\n",
       "      <td>Ada Peluang dan Risiko bagi Emiten Kawasan Ind...</td>\n",
       "      <td>https://investasi.kontan.co.id/news/ada-peluan...</td>\n",
       "      <td>Kinerja para emiten kawasan industri diperkira...</td>\n",
       "    </tr>\n",
       "    <tr>\n",
       "      <th>4</th>\n",
       "      <td>2025-03-23</td>\n",
       "      <td>Sentimen Global dan Perlambatan Ekonomi Tekan ...</td>\n",
       "      <td>https://investasi.kontan.co.id/news/sentimen-g...</td>\n",
       "      <td>Risiko investasi di Indonesia kian meningkat ...</td>\n",
       "    </tr>\n",
       "    <tr>\n",
       "      <th>...</th>\n",
       "      <td>...</td>\n",
       "      <td>...</td>\n",
       "      <td>...</td>\n",
       "      <td>...</td>\n",
       "    </tr>\n",
       "    <tr>\n",
       "      <th>2999</th>\n",
       "      <td>2025-05-21</td>\n",
       "      <td>Ini Kata Manajemen Gojek Tokopedia Terkait Rum...</td>\n",
       "      <td>https://investasi.kontan.co.id/news/ini-kata-m...</td>\n",
       "      <td>. Manajemen PT GoTo Gojek Tokopedia Tbk () kem...</td>\n",
       "    </tr>\n",
       "    <tr>\n",
       "      <th>3000</th>\n",
       "      <td>2025-05-21</td>\n",
       "      <td>Harga Emas Menguat Seiring Melemahnya Dolar AS...</td>\n",
       "      <td>https://investasi.kontan.co.id/news/harga-emas...</td>\n",
       "      <td>Harga emas dunia menguat lebih dari 1% pada S...</td>\n",
       "    </tr>\n",
       "    <tr>\n",
       "      <th>3001</th>\n",
       "      <td>2025-05-21</td>\n",
       "      <td>Wall Street Anjlok, Kenaikan Imbal Hasil Treas...</td>\n",
       "      <td>https://investasi.kontan.co.id/news/saham-wall...</td>\n",
       "      <td>Bursa saham Amerika Serikat (AS) ditutup mele...</td>\n",
       "    </tr>\n",
       "    <tr>\n",
       "      <th>3002</th>\n",
       "      <td>2025-05-21</td>\n",
       "      <td>Cermati Saham-Saham yang Banyak Dijual Asing S...</td>\n",
       "      <td>https://investasi.kontan.co.id/news/cermati-sa...</td>\n",
       "      <td>. Indeks Harga Saham Gabungan () akhirnya terk...</td>\n",
       "    </tr>\n",
       "    <tr>\n",
       "      <th>3003</th>\n",
       "      <td>2025-05-21</td>\n",
       "      <td>Saham-Saham yang Banyak Diborong Asing Saat IH...</td>\n",
       "      <td>https://investasi.kontan.co.id/news/saham-saha...</td>\n",
       "      <td>. Indeks Harga Saham Gabungan () akhirnya terk...</td>\n",
       "    </tr>\n",
       "  </tbody>\n",
       "</table>\n",
       "<p>3004 rows × 4 columns</p>\n",
       "</div>"
      ],
      "text/plain": [
       "           Date                                              Title  \\\n",
       "0    2025-03-23  Sempat Anjlok 3,95%, Begini Proyeksi IHSG, Sen...   \n",
       "1    2025-03-23  Dolar AS Melemah, Bagaimana Pergerakan Sejumla...   \n",
       "2    2025-03-23  5 Faktor Penyebab Risiko Investasi (CDS) Indon...   \n",
       "3    2025-03-23  Ada Peluang dan Risiko bagi Emiten Kawasan Ind...   \n",
       "4    2025-03-23  Sentimen Global dan Perlambatan Ekonomi Tekan ...   \n",
       "...         ...                                                ...   \n",
       "2999 2025-05-21  Ini Kata Manajemen Gojek Tokopedia Terkait Rum...   \n",
       "3000 2025-05-21  Harga Emas Menguat Seiring Melemahnya Dolar AS...   \n",
       "3001 2025-05-21  Wall Street Anjlok, Kenaikan Imbal Hasil Treas...   \n",
       "3002 2025-05-21  Cermati Saham-Saham yang Banyak Dijual Asing S...   \n",
       "3003 2025-05-21  Saham-Saham yang Banyak Diborong Asing Saat IH...   \n",
       "\n",
       "                                                   Link  \\\n",
       "0     https://investasi.kontan.co.id/news/sempat-anj...   \n",
       "1     https://investasi.kontan.co.id/news/dolar-as-m...   \n",
       "2     https://investasi.kontan.co.id/news/5-faktor-p...   \n",
       "3     https://investasi.kontan.co.id/news/ada-peluan...   \n",
       "4     https://investasi.kontan.co.id/news/sentimen-g...   \n",
       "...                                                 ...   \n",
       "2999  https://investasi.kontan.co.id/news/ini-kata-m...   \n",
       "3000  https://investasi.kontan.co.id/news/harga-emas...   \n",
       "3001  https://investasi.kontan.co.id/news/saham-wall...   \n",
       "3002  https://investasi.kontan.co.id/news/cermati-sa...   \n",
       "3003  https://investasi.kontan.co.id/news/saham-saha...   \n",
       "\n",
       "                                                   Text  \n",
       "0     . Indeks Harga Saham Gabungan (IHSG) melemah d...  \n",
       "1     Sejumlah mata uang mayor bergerak fluktuatif d...  \n",
       "2      Persepsi risiko investasi atawa Credit Defaul...  \n",
       "3     Kinerja para emiten kawasan industri diperkira...  \n",
       "4      Risiko investasi di Indonesia kian meningkat ...  \n",
       "...                                                 ...  \n",
       "2999  . Manajemen PT GoTo Gojek Tokopedia Tbk () kem...  \n",
       "3000   Harga emas dunia menguat lebih dari 1% pada S...  \n",
       "3001   Bursa saham Amerika Serikat (AS) ditutup mele...  \n",
       "3002  . Indeks Harga Saham Gabungan () akhirnya terk...  \n",
       "3003  . Indeks Harga Saham Gabungan () akhirnya terk...  \n",
       "\n",
       "[3004 rows x 4 columns]"
      ]
     },
     "execution_count": 97,
     "metadata": {},
     "output_type": "execute_result"
    }
   ],
   "source": [
    "df"
   ]
  },
  {
   "cell_type": "code",
   "execution_count": 98,
   "metadata": {},
   "outputs": [],
   "source": [
    "df.to_csv('dataset.csv')"
   ]
  }
 ],
 "metadata": {
  "kernelspec": {
   "display_name": ".venv",
   "language": "python",
   "name": "python3"
  },
  "language_info": {
   "codemirror_mode": {
    "name": "ipython",
    "version": 3
   },
   "file_extension": ".py",
   "mimetype": "text/x-python",
   "name": "python",
   "nbconvert_exporter": "python",
   "pygments_lexer": "ipython3",
   "version": "3.13.3"
  }
 },
 "nbformat": 4,
 "nbformat_minor": 2
}
